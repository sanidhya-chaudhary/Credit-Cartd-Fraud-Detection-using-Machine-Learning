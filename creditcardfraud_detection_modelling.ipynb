{
 "cells": [
  {
   "cell_type": "markdown",
   "id": "99f2eb69",
   "metadata": {},
   "source": [
  ,   

   ]
  },
  {
   "cell_type": "code",
   "execution_count": 1,
   "id": "9df13b24",
   "metadata": {},
   "outputs": [
    {
     "data": {
      "text/html": [
       "<div>\n",
       "<style scoped>\n",
       "    .dataframe tbody tr th:only-of-type {\n",
       "        vertical-align: middle;\n",
       "    }\n",
       "\n",
       "    .dataframe tbody tr th {\n",
       "        vertical-align: top;\n",
       "    }\n",
       "\n",
       "    .dataframe thead th {\n",
       "        text-align: right;\n",
       "    }\n",
       "</style>\n",
       "<table border=\"1\" class=\"dataframe\">\n",
       "  <thead>\n",
       "    <tr style=\"text-align: right;\">\n",
       "      <th></th>\n",
       "      <th>Time</th>\n",
       "      <th>V1</th>\n",
       "      <th>V2</th>\n",
       "      <th>V3</th>\n",
       "      <th>V4</th>\n",
       "      <th>V5</th>\n",
       "      <th>V6</th>\n",
       "      <th>V7</th>\n",
       "      <th>V8</th>\n",
       "      <th>V9</th>\n",
       "      <th>...</th>\n",
       "      <th>V21</th>\n",
       "      <th>V22</th>\n",
       "      <th>V23</th>\n",
       "      <th>V24</th>\n",
       "      <th>V25</th>\n",
       "      <th>V26</th>\n",
       "      <th>V27</th>\n",
       "      <th>V28</th>\n",
       "      <th>Amount</th>\n",
       "      <th>Class</th>\n",
       "    </tr>\n",
       "  </thead>\n",
       "  <tbody>\n",
       "    <tr>\n",
       "      <th>0</th>\n",
       "      <td>-1.996583</td>\n",
       "      <td>-1.359807</td>\n",
       "      <td>-0.072781</td>\n",
       "      <td>2.536347</td>\n",
       "      <td>1.378155</td>\n",
       "      <td>-0.338321</td>\n",
       "      <td>0.462388</td>\n",
       "      <td>0.239599</td>\n",
       "      <td>0.098698</td>\n",
       "      <td>0.363787</td>\n",
       "      <td>...</td>\n",
       "      <td>-0.018307</td>\n",
       "      <td>0.277838</td>\n",
       "      <td>-0.110474</td>\n",
       "      <td>0.066928</td>\n",
       "      <td>0.128539</td>\n",
       "      <td>-0.189115</td>\n",
       "      <td>0.133558</td>\n",
       "      <td>-0.021053</td>\n",
       "      <td>1.587299</td>\n",
       "      <td>0</td>\n",
       "    </tr>\n",
       "    <tr>\n",
       "      <th>1</th>\n",
       "      <td>-1.996583</td>\n",
       "      <td>1.191857</td>\n",
       "      <td>0.266151</td>\n",
       "      <td>0.166480</td>\n",
       "      <td>0.448154</td>\n",
       "      <td>0.060018</td>\n",
       "      <td>-0.082361</td>\n",
       "      <td>-0.078803</td>\n",
       "      <td>0.085102</td>\n",
       "      <td>-0.255425</td>\n",
       "      <td>...</td>\n",
       "      <td>-0.225775</td>\n",
       "      <td>-0.638672</td>\n",
       "      <td>0.101288</td>\n",
       "      <td>-0.339846</td>\n",
       "      <td>0.167170</td>\n",
       "      <td>0.125895</td>\n",
       "      <td>-0.008983</td>\n",
       "      <td>0.014724</td>\n",
       "      <td>-0.795094</td>\n",
       "      <td>0</td>\n",
       "    </tr>\n",
       "    <tr>\n",
       "      <th>2</th>\n",
       "      <td>-1.996562</td>\n",
       "      <td>-1.358354</td>\n",
       "      <td>-1.340163</td>\n",
       "      <td>1.773209</td>\n",
       "      <td>0.379780</td>\n",
       "      <td>-0.503198</td>\n",
       "      <td>1.800499</td>\n",
       "      <td>0.791461</td>\n",
       "      <td>0.247676</td>\n",
       "      <td>-1.514654</td>\n",
       "      <td>...</td>\n",
       "      <td>0.247998</td>\n",
       "      <td>0.771679</td>\n",
       "      <td>0.611875</td>\n",
       "      <td>-0.689281</td>\n",
       "      <td>-0.327642</td>\n",
       "      <td>-0.139097</td>\n",
       "      <td>-0.055353</td>\n",
       "      <td>-0.059752</td>\n",
       "      <td>2.153063</td>\n",
       "      <td>0</td>\n",
       "    </tr>\n",
       "    <tr>\n",
       "      <th>3</th>\n",
       "      <td>-1.996562</td>\n",
       "      <td>-0.966272</td>\n",
       "      <td>-0.185226</td>\n",
       "      <td>1.792993</td>\n",
       "      <td>-0.863291</td>\n",
       "      <td>-0.010309</td>\n",
       "      <td>1.247203</td>\n",
       "      <td>0.237609</td>\n",
       "      <td>0.377436</td>\n",
       "      <td>-1.387024</td>\n",
       "      <td>...</td>\n",
       "      <td>-0.108300</td>\n",
       "      <td>0.005274</td>\n",
       "      <td>-0.190321</td>\n",
       "      <td>-1.175575</td>\n",
       "      <td>0.647376</td>\n",
       "      <td>-0.221929</td>\n",
       "      <td>0.062723</td>\n",
       "      <td>0.061458</td>\n",
       "      <td>1.163777</td>\n",
       "      <td>0</td>\n",
       "    </tr>\n",
       "    <tr>\n",
       "      <th>4</th>\n",
       "      <td>-1.996541</td>\n",
       "      <td>-1.158233</td>\n",
       "      <td>0.877737</td>\n",
       "      <td>1.548718</td>\n",
       "      <td>0.403034</td>\n",
       "      <td>-0.407193</td>\n",
       "      <td>0.095921</td>\n",
       "      <td>0.592941</td>\n",
       "      <td>-0.270533</td>\n",
       "      <td>0.817739</td>\n",
       "      <td>...</td>\n",
       "      <td>-0.009431</td>\n",
       "      <td>0.798278</td>\n",
       "      <td>-0.137458</td>\n",
       "      <td>0.141267</td>\n",
       "      <td>-0.206010</td>\n",
       "      <td>0.502292</td>\n",
       "      <td>0.219422</td>\n",
       "      <td>0.215153</td>\n",
       "      <td>0.296140</td>\n",
       "      <td>0</td>\n",
       "    </tr>\n",
       "  </tbody>\n",
       "</table>\n",
       "<p>5 rows × 31 columns</p>\n",
       "</div>"
      ],
      "text/plain": [
       "       Time        V1        V2        V3        V4        V5        V6  \\\n",
       "0 -1.996583 -1.359807 -0.072781  2.536347  1.378155 -0.338321  0.462388   \n",
       "1 -1.996583  1.191857  0.266151  0.166480  0.448154  0.060018 -0.082361   \n",
       "2 -1.996562 -1.358354 -1.340163  1.773209  0.379780 -0.503198  1.800499   \n",
       "3 -1.996562 -0.966272 -0.185226  1.792993 -0.863291 -0.010309  1.247203   \n",
       "4 -1.996541 -1.158233  0.877737  1.548718  0.403034 -0.407193  0.095921   \n",
       "\n",
       "         V7        V8        V9  ...       V21       V22       V23       V24  \\\n",
       "0  0.239599  0.098698  0.363787  ... -0.018307  0.277838 -0.110474  0.066928   \n",
       "1 -0.078803  0.085102 -0.255425  ... -0.225775 -0.638672  0.101288 -0.339846   \n",
       "2  0.791461  0.247676 -1.514654  ...  0.247998  0.771679  0.611875 -0.689281   \n",
       "3  0.237609  0.377436 -1.387024  ... -0.108300  0.005274 -0.190321 -1.175575   \n",
       "4  0.592941 -0.270533  0.817739  ... -0.009431  0.798278 -0.137458  0.141267   \n",
       "\n",
       "        V25       V26       V27       V28    Amount  Class  \n",
       "0  0.128539 -0.189115  0.133558 -0.021053  1.587299      0  \n",
       "1  0.167170  0.125895 -0.008983  0.014724 -0.795094      0  \n",
       "2 -0.327642 -0.139097 -0.055353 -0.059752  2.153063      0  \n",
       "3  0.647376 -0.221929  0.062723  0.061458  1.163777      0  \n",
       "4 -0.206010  0.502292  0.219422  0.215153  0.296140      0  \n",
       "\n",
       "[5 rows x 31 columns]"
      ]
     },
     "execution_count": 1,
     "metadata": {},
     "output_type": "execute_result"
    }
   ],
   "source": [
    "import pandas as pd\n",
    "import seaborn as sns\n",
    "import matplotlib.pyplot as plt\n",
    "\n",
    "# path =\"/content/drive/MyDrive/creditcard.csv\"\n",
    "\n",
    "df  = pd.read_csv(r\"C:\\Users\\SHIVA\\Downloads\\predictive analytics files\\finalise_data_creditcard.csv\")\n",
    "df.head()"
   ]
  },
  {
   "cell_type": "code",
   "execution_count": 2,
   "id": "70eae7b3",
   "metadata": {},
   "outputs": [
    {
     "name": "stdout",
     "output_type": "stream",
     "text": [
      "Defaulting to user installation because normal site-packages is not writeable\n",
      "Requirement already satisfied: imblearn in c:\\users\\shiva\\appdata\\roaming\\python\\python39\\site-packages (0.0)\n",
      "Requirement already satisfied: imbalanced-learn in c:\\users\\shiva\\appdata\\roaming\\python\\python39\\site-packages (from imblearn) (0.10.1)\n",
      "Requirement already satisfied: joblib>=1.1.1 in c:\\users\\shiva\\appdata\\roaming\\python\\python39\\site-packages (from imbalanced-learn->imblearn) (1.2.0)\n",
      "Requirement already satisfied: scipy>=1.3.2 in c:\\users\\shiva\\appdata\\roaming\\python\\python39\\site-packages (from imbalanced-learn->imblearn) (1.7.1)\n",
      "Requirement already satisfied: threadpoolctl>=2.0.0 in c:\\programdata\\anaconda3\\lib\\site-packages (from imbalanced-learn->imblearn) (2.2.0)\n",
      "Requirement already satisfied: numpy>=1.17.3 in c:\\programdata\\anaconda3\\lib\\site-packages (from imbalanced-learn->imblearn) (1.21.5)\n",
      "Requirement already satisfied: scikit-learn>=1.0.2 in c:\\programdata\\anaconda3\\lib\\site-packages (from imbalanced-learn->imblearn) (1.0.2)\n"
     ]
    }
   ],
   "source": [
    "!pip install imblearn"
   ]
  },
  {
   "cell_type": "code",
   "execution_count": 3,
   "id": "6e31818c",
   "metadata": {},
   "outputs": [],
   "source": [
    "X= df.drop([\"Class\"], axis=1)\n",
    "y= df.Class"
   ]
  },
  {
   "cell_type": "code",
   "execution_count": 4,
   "id": "d448cb23",
   "metadata": {},
   "outputs": [],
   "source": [
    "fraud= len(df[df[\"Class\"]==1])\n",
    "no_fraud= len(df[df[\"Class\"]==0])"
   ]
  },
  {
   "cell_type": "code",
   "execution_count": 5,
   "id": "3e371d3f",
   "metadata": {},
   "outputs": [
    {
     "name": "stdout",
     "output_type": "stream",
     "text": [
      "Fraudulent transactions: 492\n",
      "Non Fraudulent transactions: 284315\n"
     ]
    }
   ],
   "source": [
    "print(f\"Fraudulent transactions: {fraud}\")\n",
    "print(f\"Non Fraudulent transactions: {no_fraud}\")"
   ]
  },
  {
   "cell_type": "markdown",
   "id": "38ed1788",
   "metadata": {},
   "source": [
    "## Undersampling\n"
   ]
  },
  {
   "cell_type": "code",
   "execution_count": 6,
   "id": "d295e4ad",
   "metadata": {},
   "outputs": [],
   "source": [
    "from imblearn.under_sampling import CondensedNearestNeighbour,EditedNearestNeighbours,NearMiss,NeighbourhoodCleaningRule,OneSidedSelection,RandomUnderSampler,TomekLinks"
   ]
  },
  {
   "cell_type": "markdown",
   "id": "467e2b38",
   "metadata": {},
   "source": [
    "## RandomUnderSampler"
   ]
  },
  {
   "cell_type": "code",
   "execution_count": 7,
   "id": "d9f4b248",
   "metadata": {},
   "outputs": [
    {
     "data": {
      "text/html": [
       "<div>\n",
       "<style scoped>\n",
       "    .dataframe tbody tr th:only-of-type {\n",
       "        vertical-align: middle;\n",
       "    }\n",
       "\n",
       "    .dataframe tbody tr th {\n",
       "        vertical-align: top;\n",
       "    }\n",
       "\n",
       "    .dataframe thead th {\n",
       "        text-align: right;\n",
       "    }\n",
       "</style>\n",
       "<table border=\"1\" class=\"dataframe\">\n",
       "  <thead>\n",
       "    <tr style=\"text-align: right;\">\n",
       "      <th></th>\n",
       "      <th>Time</th>\n",
       "      <th>V1</th>\n",
       "      <th>V2</th>\n",
       "      <th>V3</th>\n",
       "      <th>V4</th>\n",
       "      <th>V5</th>\n",
       "      <th>V6</th>\n",
       "      <th>V7</th>\n",
       "      <th>V8</th>\n",
       "      <th>V9</th>\n",
       "      <th>...</th>\n",
       "      <th>V20</th>\n",
       "      <th>V21</th>\n",
       "      <th>V22</th>\n",
       "      <th>V23</th>\n",
       "      <th>V24</th>\n",
       "      <th>V25</th>\n",
       "      <th>V26</th>\n",
       "      <th>V27</th>\n",
       "      <th>V28</th>\n",
       "      <th>Amount</th>\n",
       "    </tr>\n",
       "  </thead>\n",
       "  <tbody>\n",
       "    <tr>\n",
       "      <th>0</th>\n",
       "      <td>-0.417512</td>\n",
       "      <td>1.527433</td>\n",
       "      <td>-0.461260</td>\n",
       "      <td>-0.834114</td>\n",
       "      <td>-1.028904</td>\n",
       "      <td>0.089216</td>\n",
       "      <td>-0.175688</td>\n",
       "      <td>-0.274290</td>\n",
       "      <td>-0.076280</td>\n",
       "      <td>-0.786820</td>\n",
       "      <td>...</td>\n",
       "      <td>-0.062126</td>\n",
       "      <td>0.097526</td>\n",
       "      <td>0.199935</td>\n",
       "      <td>-0.274765</td>\n",
       "      <td>-1.322760</td>\n",
       "      <td>0.851065</td>\n",
       "      <td>0.038527</td>\n",
       "      <td>-0.023607</td>\n",
       "      <td>-0.021650</td>\n",
       "      <td>-0.822496</td>\n",
       "    </tr>\n",
       "    <tr>\n",
       "      <th>1</th>\n",
       "      <td>0.055069</td>\n",
       "      <td>1.936028</td>\n",
       "      <td>-0.391544</td>\n",
       "      <td>0.455258</td>\n",
       "      <td>0.673310</td>\n",
       "      <td>-1.217873</td>\n",
       "      <td>-0.703623</td>\n",
       "      <td>-0.940000</td>\n",
       "      <td>-0.103963</td>\n",
       "      <td>2.457494</td>\n",
       "      <td>...</td>\n",
       "      <td>-0.204003</td>\n",
       "      <td>-0.082077</td>\n",
       "      <td>0.169631</td>\n",
       "      <td>0.375442</td>\n",
       "      <td>0.434502</td>\n",
       "      <td>-0.669984</td>\n",
       "      <td>0.413046</td>\n",
       "      <td>-0.037385</td>\n",
       "      <td>-0.038219</td>\n",
       "      <td>-0.596304</td>\n",
       "    </tr>\n",
       "    <tr>\n",
       "      <th>2</th>\n",
       "      <td>-0.381377</td>\n",
       "      <td>1.212061</td>\n",
       "      <td>-0.366070</td>\n",
       "      <td>1.059187</td>\n",
       "      <td>-0.035950</td>\n",
       "      <td>-1.002583</td>\n",
       "      <td>0.047175</td>\n",
       "      <td>-0.811711</td>\n",
       "      <td>0.213515</td>\n",
       "      <td>0.856225</td>\n",
       "      <td>...</td>\n",
       "      <td>-0.057860</td>\n",
       "      <td>-0.092749</td>\n",
       "      <td>-0.091206</td>\n",
       "      <td>0.014558</td>\n",
       "      <td>0.091391</td>\n",
       "      <td>0.128617</td>\n",
       "      <td>0.993584</td>\n",
       "      <td>-0.036948</td>\n",
       "      <td>0.001613</td>\n",
       "      <td>-0.822496</td>\n",
       "    </tr>\n",
       "    <tr>\n",
       "      <th>3</th>\n",
       "      <td>-0.706575</td>\n",
       "      <td>-1.051204</td>\n",
       "      <td>1.075649</td>\n",
       "      <td>0.895192</td>\n",
       "      <td>1.175461</td>\n",
       "      <td>0.109368</td>\n",
       "      <td>0.474795</td>\n",
       "      <td>0.128613</td>\n",
       "      <td>0.676522</td>\n",
       "      <td>-0.574833</td>\n",
       "      <td>...</td>\n",
       "      <td>-0.035441</td>\n",
       "      <td>0.030416</td>\n",
       "      <td>0.305363</td>\n",
       "      <td>0.039111</td>\n",
       "      <td>-0.296289</td>\n",
       "      <td>-0.028537</td>\n",
       "      <td>-0.221573</td>\n",
       "      <td>0.198834</td>\n",
       "      <td>0.099191</td>\n",
       "      <td>-0.529177</td>\n",
       "    </tr>\n",
       "    <tr>\n",
       "      <th>4</th>\n",
       "      <td>0.922803</td>\n",
       "      <td>-4.274396</td>\n",
       "      <td>-2.701961</td>\n",
       "      <td>-1.503282</td>\n",
       "      <td>-1.876924</td>\n",
       "      <td>-2.148060</td>\n",
       "      <td>-0.946421</td>\n",
       "      <td>1.117545</td>\n",
       "      <td>0.099251</td>\n",
       "      <td>0.136878</td>\n",
       "      <td>...</td>\n",
       "      <td>-0.710401</td>\n",
       "      <td>-0.624943</td>\n",
       "      <td>-1.553608</td>\n",
       "      <td>-0.626079</td>\n",
       "      <td>0.158920</td>\n",
       "      <td>-1.009544</td>\n",
       "      <td>-0.862611</td>\n",
       "      <td>0.217553</td>\n",
       "      <td>-0.249819</td>\n",
       "      <td>2.153063</td>\n",
       "    </tr>\n",
       "  </tbody>\n",
       "</table>\n",
       "<p>5 rows × 30 columns</p>\n",
       "</div>"
      ],
      "text/plain": [
       "       Time        V1        V2        V3        V4        V5        V6  \\\n",
       "0 -0.417512  1.527433 -0.461260 -0.834114 -1.028904  0.089216 -0.175688   \n",
       "1  0.055069  1.936028 -0.391544  0.455258  0.673310 -1.217873 -0.703623   \n",
       "2 -0.381377  1.212061 -0.366070  1.059187 -0.035950 -1.002583  0.047175   \n",
       "3 -0.706575 -1.051204  1.075649  0.895192  1.175461  0.109368  0.474795   \n",
       "4  0.922803 -4.274396 -2.701961 -1.503282 -1.876924 -2.148060 -0.946421   \n",
       "\n",
       "         V7        V8        V9  ...       V20       V21       V22       V23  \\\n",
       "0 -0.274290 -0.076280 -0.786820  ... -0.062126  0.097526  0.199935 -0.274765   \n",
       "1 -0.940000 -0.103963  2.457494  ... -0.204003 -0.082077  0.169631  0.375442   \n",
       "2 -0.811711  0.213515  0.856225  ... -0.057860 -0.092749 -0.091206  0.014558   \n",
       "3  0.128613  0.676522 -0.574833  ... -0.035441  0.030416  0.305363  0.039111   \n",
       "4  1.117545  0.099251  0.136878  ... -0.710401 -0.624943 -1.553608 -0.626079   \n",
       "\n",
       "        V24       V25       V26       V27       V28    Amount  \n",
       "0 -1.322760  0.851065  0.038527 -0.023607 -0.021650 -0.822496  \n",
       "1  0.434502 -0.669984  0.413046 -0.037385 -0.038219 -0.596304  \n",
       "2  0.091391  0.128617  0.993584 -0.036948  0.001613 -0.822496  \n",
       "3 -0.296289 -0.028537 -0.221573  0.198834  0.099191 -0.529177  \n",
       "4  0.158920 -1.009544 -0.862611  0.217553 -0.249819  2.153063  \n",
       "\n",
       "[5 rows x 30 columns]"
      ]
     },
     "execution_count": 7,
     "metadata": {},
     "output_type": "execute_result"
    }
   ],
   "source": [
    "rus = RandomUnderSampler(random_state=0, replacement=True)\n",
    "X_random_undersampled, y_random_undersampled = rus.fit_resample(X, y)\n",
    "X_random_undersampled.head()"
   ]
  },
  {
   "cell_type": "code",
   "execution_count": 8,
   "id": "f17f5765",
   "metadata": {},
   "outputs": [
    {
     "data": {
      "text/plain": [
       "(984, 30)"
      ]
     },
     "execution_count": 8,
     "metadata": {},
     "output_type": "execute_result"
    }
   ],
   "source": [
    "X_random_undersampled.shape"
   ]
  },
  {
   "cell_type": "code",
   "execution_count": 9,
   "id": "ec6e261a",
   "metadata": {},
   "outputs": [
    {
     "name": "stdout",
     "output_type": "stream",
     "text": [
      "984\n",
      "984\n"
     ]
    }
   ],
   "source": [
    "print(len(X_random_undersampled))\n",
    "print(len(y_random_undersampled))"
   ]
  },
  {
   "cell_type": "code",
   "execution_count": 10,
   "id": "df52fd43",
   "metadata": {},
   "outputs": [
    {
     "name": "stderr",
     "output_type": "stream",
     "text": [
      "C:\\ProgramData\\Anaconda3\\lib\\site-packages\\seaborn\\_decorators.py:36: FutureWarning: Pass the following variable as a keyword arg: x. From version 0.12, the only valid positional argument will be `data`, and passing other arguments without an explicit keyword will result in an error or misinterpretation.\n",
      "  warnings.warn(\n"
     ]
    },
    {
     "data": {
      "image/png": "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\n",
      "text/plain": [
       "<Figure size 640x480 with 1 Axes>"
      ]
     },
     "metadata": {},
     "output_type": "display_data"
    }
   ],
   "source": [
    "sns.countplot(y_random_undersampled)\n",
    "plt.show()"
   ]
  },
  {
   "cell_type": "code",
   "execution_count": null,
   "id": "f54c2201",
   "metadata": {},
   "outputs": [],
   "source": []
  },
  {
   "cell_type": "markdown",
   "id": "f5673450",
   "metadata": {},
   "source": [
    "## OverSampling\n",
    " I use two techniques\n",
    "  - Adasyn and RandomOverSampler\n",
    "\n",
    "RandomOverSampler is over-sampling by duplicating some of the original samples of the minority class, SMOTE and ADASYN generate new samples in by interpolation."
   ]
  },
  {
   "cell_type": "code",
   "execution_count": 11,
   "id": "b781bb45",
   "metadata": {},
   "outputs": [],
   "source": [
    " from imblearn.over_sampling import ADASYN,SMOTE,RandomOverSampler"
   ]
  },
  {
   "cell_type": "markdown",
   "id": "1c4cff89",
   "metadata": {},
   "source": [
    "## RandomOverSampler"
   ]
  },
  {
   "cell_type": "code",
   "execution_count": 12,
   "id": "d93605f2",
   "metadata": {},
   "outputs": [
    {
     "data": {
      "text/html": [
       "<div>\n",
       "<style scoped>\n",
       "    .dataframe tbody tr th:only-of-type {\n",
       "        vertical-align: middle;\n",
       "    }\n",
       "\n",
       "    .dataframe tbody tr th {\n",
       "        vertical-align: top;\n",
       "    }\n",
       "\n",
       "    .dataframe thead th {\n",
       "        text-align: right;\n",
       "    }\n",
       "</style>\n",
       "<table border=\"1\" class=\"dataframe\">\n",
       "  <thead>\n",
       "    <tr style=\"text-align: right;\">\n",
       "      <th></th>\n",
       "      <th>Time</th>\n",
       "      <th>V1</th>\n",
       "      <th>V2</th>\n",
       "      <th>V3</th>\n",
       "      <th>V4</th>\n",
       "      <th>V5</th>\n",
       "      <th>V6</th>\n",
       "      <th>V7</th>\n",
       "      <th>V8</th>\n",
       "      <th>V9</th>\n",
       "      <th>...</th>\n",
       "      <th>V20</th>\n",
       "      <th>V21</th>\n",
       "      <th>V22</th>\n",
       "      <th>V23</th>\n",
       "      <th>V24</th>\n",
       "      <th>V25</th>\n",
       "      <th>V26</th>\n",
       "      <th>V27</th>\n",
       "      <th>V28</th>\n",
       "      <th>Amount</th>\n",
       "    </tr>\n",
       "  </thead>\n",
       "  <tbody>\n",
       "    <tr>\n",
       "      <th>0</th>\n",
       "      <td>-1.996583</td>\n",
       "      <td>-1.359807</td>\n",
       "      <td>-0.072781</td>\n",
       "      <td>2.536347</td>\n",
       "      <td>1.378155</td>\n",
       "      <td>-0.338321</td>\n",
       "      <td>0.462388</td>\n",
       "      <td>0.239599</td>\n",
       "      <td>0.098698</td>\n",
       "      <td>0.363787</td>\n",
       "      <td>...</td>\n",
       "      <td>0.251412</td>\n",
       "      <td>-0.018307</td>\n",
       "      <td>0.277838</td>\n",
       "      <td>-0.110474</td>\n",
       "      <td>0.066928</td>\n",
       "      <td>0.128539</td>\n",
       "      <td>-0.189115</td>\n",
       "      <td>0.133558</td>\n",
       "      <td>-0.021053</td>\n",
       "      <td>1.587299</td>\n",
       "    </tr>\n",
       "    <tr>\n",
       "      <th>1</th>\n",
       "      <td>-1.996583</td>\n",
       "      <td>1.191857</td>\n",
       "      <td>0.266151</td>\n",
       "      <td>0.166480</td>\n",
       "      <td>0.448154</td>\n",
       "      <td>0.060018</td>\n",
       "      <td>-0.082361</td>\n",
       "      <td>-0.078803</td>\n",
       "      <td>0.085102</td>\n",
       "      <td>-0.255425</td>\n",
       "      <td>...</td>\n",
       "      <td>-0.069083</td>\n",
       "      <td>-0.225775</td>\n",
       "      <td>-0.638672</td>\n",
       "      <td>0.101288</td>\n",
       "      <td>-0.339846</td>\n",
       "      <td>0.167170</td>\n",
       "      <td>0.125895</td>\n",
       "      <td>-0.008983</td>\n",
       "      <td>0.014724</td>\n",
       "      <td>-0.795094</td>\n",
       "    </tr>\n",
       "    <tr>\n",
       "      <th>2</th>\n",
       "      <td>-1.996562</td>\n",
       "      <td>-1.358354</td>\n",
       "      <td>-1.340163</td>\n",
       "      <td>1.773209</td>\n",
       "      <td>0.379780</td>\n",
       "      <td>-0.503198</td>\n",
       "      <td>1.800499</td>\n",
       "      <td>0.791461</td>\n",
       "      <td>0.247676</td>\n",
       "      <td>-1.514654</td>\n",
       "      <td>...</td>\n",
       "      <td>0.524980</td>\n",
       "      <td>0.247998</td>\n",
       "      <td>0.771679</td>\n",
       "      <td>0.611875</td>\n",
       "      <td>-0.689281</td>\n",
       "      <td>-0.327642</td>\n",
       "      <td>-0.139097</td>\n",
       "      <td>-0.055353</td>\n",
       "      <td>-0.059752</td>\n",
       "      <td>2.153063</td>\n",
       "    </tr>\n",
       "    <tr>\n",
       "      <th>3</th>\n",
       "      <td>-1.996562</td>\n",
       "      <td>-0.966272</td>\n",
       "      <td>-0.185226</td>\n",
       "      <td>1.792993</td>\n",
       "      <td>-0.863291</td>\n",
       "      <td>-0.010309</td>\n",
       "      <td>1.247203</td>\n",
       "      <td>0.237609</td>\n",
       "      <td>0.377436</td>\n",
       "      <td>-1.387024</td>\n",
       "      <td>...</td>\n",
       "      <td>-0.208038</td>\n",
       "      <td>-0.108300</td>\n",
       "      <td>0.005274</td>\n",
       "      <td>-0.190321</td>\n",
       "      <td>-1.175575</td>\n",
       "      <td>0.647376</td>\n",
       "      <td>-0.221929</td>\n",
       "      <td>0.062723</td>\n",
       "      <td>0.061458</td>\n",
       "      <td>1.163777</td>\n",
       "    </tr>\n",
       "    <tr>\n",
       "      <th>4</th>\n",
       "      <td>-1.996541</td>\n",
       "      <td>-1.158233</td>\n",
       "      <td>0.877737</td>\n",
       "      <td>1.548718</td>\n",
       "      <td>0.403034</td>\n",
       "      <td>-0.407193</td>\n",
       "      <td>0.095921</td>\n",
       "      <td>0.592941</td>\n",
       "      <td>-0.270533</td>\n",
       "      <td>0.817739</td>\n",
       "      <td>...</td>\n",
       "      <td>0.408542</td>\n",
       "      <td>-0.009431</td>\n",
       "      <td>0.798278</td>\n",
       "      <td>-0.137458</td>\n",
       "      <td>0.141267</td>\n",
       "      <td>-0.206010</td>\n",
       "      <td>0.502292</td>\n",
       "      <td>0.219422</td>\n",
       "      <td>0.215153</td>\n",
       "      <td>0.296140</td>\n",
       "    </tr>\n",
       "  </tbody>\n",
       "</table>\n",
       "<p>5 rows × 30 columns</p>\n",
       "</div>"
      ],
      "text/plain": [
       "       Time        V1        V2        V3        V4        V5        V6  \\\n",
       "0 -1.996583 -1.359807 -0.072781  2.536347  1.378155 -0.338321  0.462388   \n",
       "1 -1.996583  1.191857  0.266151  0.166480  0.448154  0.060018 -0.082361   \n",
       "2 -1.996562 -1.358354 -1.340163  1.773209  0.379780 -0.503198  1.800499   \n",
       "3 -1.996562 -0.966272 -0.185226  1.792993 -0.863291 -0.010309  1.247203   \n",
       "4 -1.996541 -1.158233  0.877737  1.548718  0.403034 -0.407193  0.095921   \n",
       "\n",
       "         V7        V8        V9  ...       V20       V21       V22       V23  \\\n",
       "0  0.239599  0.098698  0.363787  ...  0.251412 -0.018307  0.277838 -0.110474   \n",
       "1 -0.078803  0.085102 -0.255425  ... -0.069083 -0.225775 -0.638672  0.101288   \n",
       "2  0.791461  0.247676 -1.514654  ...  0.524980  0.247998  0.771679  0.611875   \n",
       "3  0.237609  0.377436 -1.387024  ... -0.208038 -0.108300  0.005274 -0.190321   \n",
       "4  0.592941 -0.270533  0.817739  ...  0.408542 -0.009431  0.798278 -0.137458   \n",
       "\n",
       "        V24       V25       V26       V27       V28    Amount  \n",
       "0  0.066928  0.128539 -0.189115  0.133558 -0.021053  1.587299  \n",
       "1 -0.339846  0.167170  0.125895 -0.008983  0.014724 -0.795094  \n",
       "2 -0.689281 -0.327642 -0.139097 -0.055353 -0.059752  2.153063  \n",
       "3 -1.175575  0.647376 -0.221929  0.062723  0.061458  1.163777  \n",
       "4  0.141267 -0.206010  0.502292  0.219422  0.215153  0.296140  \n",
       "\n",
       "[5 rows x 30 columns]"
      ]
     },
     "execution_count": 12,
     "metadata": {},
     "output_type": "execute_result"
    }
   ],
   "source": [
    "ros = RandomOverSampler(random_state=0)\n",
    "X__random_oversampled, y_random_oversampled = ros.fit_resample(X, y)\n",
    "X__random_oversampled.head() "
   ]
  },
  {
   "cell_type": "code",
   "execution_count": 13,
   "id": "c1212f67",
   "metadata": {},
   "outputs": [
    {
     "name": "stdout",
     "output_type": "stream",
     "text": [
      "568630\n",
      "568630\n"
     ]
    }
   ],
   "source": [
    "print(len(X__random_oversampled))\n",
    "print(len(y_random_oversampled))"
   ]
  },
  {
   "cell_type": "code",
   "execution_count": 14,
   "id": "09584eae",
   "metadata": {},
   "outputs": [
    {
     "name": "stderr",
     "output_type": "stream",
     "text": [
      "C:\\ProgramData\\Anaconda3\\lib\\site-packages\\seaborn\\_decorators.py:36: FutureWarning: Pass the following variable as a keyword arg: x. From version 0.12, the only valid positional argument will be `data`, and passing other arguments without an explicit keyword will result in an error or misinterpretation.\n",
      "  warnings.warn(\n"
     ]
    },
    {
     "data": {
      "image/png": "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\n",
      "text/plain": [
       "<Figure size 640x480 with 1 Axes>"
      ]
     },
     "metadata": {},
     "output_type": "display_data"
    }
   ],
   "source": [
    "sns.countplot(y_random_oversampled)\n",
    "plt.show()"
   ]
  },
  {
   "cell_type": "markdown",
   "id": "f05c8890",
   "metadata": {},
   "source": [
    "## Adasyn Oversampler\n"
   ]
  },
  {
   "cell_type": "code",
   "execution_count": 15,
   "id": "3bc0a70d",
   "metadata": {},
   "outputs": [
    {
     "data": {
      "text/html": [
       "<div>\n",
       "<style scoped>\n",
       "    .dataframe tbody tr th:only-of-type {\n",
       "        vertical-align: middle;\n",
       "    }\n",
       "\n",
       "    .dataframe tbody tr th {\n",
       "        vertical-align: top;\n",
       "    }\n",
       "\n",
       "    .dataframe thead th {\n",
       "        text-align: right;\n",
       "    }\n",
       "</style>\n",
       "<table border=\"1\" class=\"dataframe\">\n",
       "  <thead>\n",
       "    <tr style=\"text-align: right;\">\n",
       "      <th></th>\n",
       "      <th>Time</th>\n",
       "      <th>V1</th>\n",
       "      <th>V2</th>\n",
       "      <th>V3</th>\n",
       "      <th>V4</th>\n",
       "      <th>V5</th>\n",
       "      <th>V6</th>\n",
       "      <th>V7</th>\n",
       "      <th>V8</th>\n",
       "      <th>V9</th>\n",
       "      <th>...</th>\n",
       "      <th>V20</th>\n",
       "      <th>V21</th>\n",
       "      <th>V22</th>\n",
       "      <th>V23</th>\n",
       "      <th>V24</th>\n",
       "      <th>V25</th>\n",
       "      <th>V26</th>\n",
       "      <th>V27</th>\n",
       "      <th>V28</th>\n",
       "      <th>Amount</th>\n",
       "    </tr>\n",
       "  </thead>\n",
       "  <tbody>\n",
       "    <tr>\n",
       "      <th>0</th>\n",
       "      <td>-1.996583</td>\n",
       "      <td>-1.359807</td>\n",
       "      <td>-0.072781</td>\n",
       "      <td>2.536347</td>\n",
       "      <td>1.378155</td>\n",
       "      <td>-0.338321</td>\n",
       "      <td>0.462388</td>\n",
       "      <td>0.239599</td>\n",
       "      <td>0.098698</td>\n",
       "      <td>0.363787</td>\n",
       "      <td>...</td>\n",
       "      <td>0.251412</td>\n",
       "      <td>-0.018307</td>\n",
       "      <td>0.277838</td>\n",
       "      <td>-0.110474</td>\n",
       "      <td>0.066928</td>\n",
       "      <td>0.128539</td>\n",
       "      <td>-0.189115</td>\n",
       "      <td>0.133558</td>\n",
       "      <td>-0.021053</td>\n",
       "      <td>1.587299</td>\n",
       "    </tr>\n",
       "    <tr>\n",
       "      <th>1</th>\n",
       "      <td>-1.996583</td>\n",
       "      <td>1.191857</td>\n",
       "      <td>0.266151</td>\n",
       "      <td>0.166480</td>\n",
       "      <td>0.448154</td>\n",
       "      <td>0.060018</td>\n",
       "      <td>-0.082361</td>\n",
       "      <td>-0.078803</td>\n",
       "      <td>0.085102</td>\n",
       "      <td>-0.255425</td>\n",
       "      <td>...</td>\n",
       "      <td>-0.069083</td>\n",
       "      <td>-0.225775</td>\n",
       "      <td>-0.638672</td>\n",
       "      <td>0.101288</td>\n",
       "      <td>-0.339846</td>\n",
       "      <td>0.167170</td>\n",
       "      <td>0.125895</td>\n",
       "      <td>-0.008983</td>\n",
       "      <td>0.014724</td>\n",
       "      <td>-0.795094</td>\n",
       "    </tr>\n",
       "    <tr>\n",
       "      <th>2</th>\n",
       "      <td>-1.996562</td>\n",
       "      <td>-1.358354</td>\n",
       "      <td>-1.340163</td>\n",
       "      <td>1.773209</td>\n",
       "      <td>0.379780</td>\n",
       "      <td>-0.503198</td>\n",
       "      <td>1.800499</td>\n",
       "      <td>0.791461</td>\n",
       "      <td>0.247676</td>\n",
       "      <td>-1.514654</td>\n",
       "      <td>...</td>\n",
       "      <td>0.524980</td>\n",
       "      <td>0.247998</td>\n",
       "      <td>0.771679</td>\n",
       "      <td>0.611875</td>\n",
       "      <td>-0.689281</td>\n",
       "      <td>-0.327642</td>\n",
       "      <td>-0.139097</td>\n",
       "      <td>-0.055353</td>\n",
       "      <td>-0.059752</td>\n",
       "      <td>2.153063</td>\n",
       "    </tr>\n",
       "    <tr>\n",
       "      <th>3</th>\n",
       "      <td>-1.996562</td>\n",
       "      <td>-0.966272</td>\n",
       "      <td>-0.185226</td>\n",
       "      <td>1.792993</td>\n",
       "      <td>-0.863291</td>\n",
       "      <td>-0.010309</td>\n",
       "      <td>1.247203</td>\n",
       "      <td>0.237609</td>\n",
       "      <td>0.377436</td>\n",
       "      <td>-1.387024</td>\n",
       "      <td>...</td>\n",
       "      <td>-0.208038</td>\n",
       "      <td>-0.108300</td>\n",
       "      <td>0.005274</td>\n",
       "      <td>-0.190321</td>\n",
       "      <td>-1.175575</td>\n",
       "      <td>0.647376</td>\n",
       "      <td>-0.221929</td>\n",
       "      <td>0.062723</td>\n",
       "      <td>0.061458</td>\n",
       "      <td>1.163777</td>\n",
       "    </tr>\n",
       "    <tr>\n",
       "      <th>4</th>\n",
       "      <td>-1.996541</td>\n",
       "      <td>-1.158233</td>\n",
       "      <td>0.877737</td>\n",
       "      <td>1.548718</td>\n",
       "      <td>0.403034</td>\n",
       "      <td>-0.407193</td>\n",
       "      <td>0.095921</td>\n",
       "      <td>0.592941</td>\n",
       "      <td>-0.270533</td>\n",
       "      <td>0.817739</td>\n",
       "      <td>...</td>\n",
       "      <td>0.408542</td>\n",
       "      <td>-0.009431</td>\n",
       "      <td>0.798278</td>\n",
       "      <td>-0.137458</td>\n",
       "      <td>0.141267</td>\n",
       "      <td>-0.206010</td>\n",
       "      <td>0.502292</td>\n",
       "      <td>0.219422</td>\n",
       "      <td>0.215153</td>\n",
       "      <td>0.296140</td>\n",
       "    </tr>\n",
       "  </tbody>\n",
       "</table>\n",
       "<p>5 rows × 30 columns</p>\n",
       "</div>"
      ],
      "text/plain": [
       "       Time        V1        V2        V3        V4        V5        V6  \\\n",
       "0 -1.996583 -1.359807 -0.072781  2.536347  1.378155 -0.338321  0.462388   \n",
       "1 -1.996583  1.191857  0.266151  0.166480  0.448154  0.060018 -0.082361   \n",
       "2 -1.996562 -1.358354 -1.340163  1.773209  0.379780 -0.503198  1.800499   \n",
       "3 -1.996562 -0.966272 -0.185226  1.792993 -0.863291 -0.010309  1.247203   \n",
       "4 -1.996541 -1.158233  0.877737  1.548718  0.403034 -0.407193  0.095921   \n",
       "\n",
       "         V7        V8        V9  ...       V20       V21       V22       V23  \\\n",
       "0  0.239599  0.098698  0.363787  ...  0.251412 -0.018307  0.277838 -0.110474   \n",
       "1 -0.078803  0.085102 -0.255425  ... -0.069083 -0.225775 -0.638672  0.101288   \n",
       "2  0.791461  0.247676 -1.514654  ...  0.524980  0.247998  0.771679  0.611875   \n",
       "3  0.237609  0.377436 -1.387024  ... -0.208038 -0.108300  0.005274 -0.190321   \n",
       "4  0.592941 -0.270533  0.817739  ...  0.408542 -0.009431  0.798278 -0.137458   \n",
       "\n",
       "        V24       V25       V26       V27       V28    Amount  \n",
       "0  0.066928  0.128539 -0.189115  0.133558 -0.021053  1.587299  \n",
       "1 -0.339846  0.167170  0.125895 -0.008983  0.014724 -0.795094  \n",
       "2 -0.689281 -0.327642 -0.139097 -0.055353 -0.059752  2.153063  \n",
       "3 -1.175575  0.647376 -0.221929  0.062723  0.061458  1.163777  \n",
       "4  0.141267 -0.206010  0.502292  0.219422  0.215153  0.296140  \n",
       "\n",
       "[5 rows x 30 columns]"
      ]
     },
     "execution_count": 15,
     "metadata": {},
     "output_type": "execute_result"
    }
   ],
   "source": [
    "X_adasyn_oversampled, y_adasyn_oversampled = ADASYN().fit_resample(X, y)\n",
    "X_adasyn_oversampled.head() "
   ]
  },
  {
   "cell_type": "code",
   "execution_count": 16,
   "id": "8c2e8e3c",
   "metadata": {},
   "outputs": [
    {
     "name": "stdout",
     "output_type": "stream",
     "text": [
      "568676\n",
      "568676\n"
     ]
    }
   ],
   "source": [
    "print(len(X_adasyn_oversampled))\n",
    "print(len(y_adasyn_oversampled)) "
   ]
  },
  {
   "cell_type": "code",
   "execution_count": 17,
   "id": "670b6c7b",
   "metadata": {},
   "outputs": [
    {
     "name": "stderr",
     "output_type": "stream",
     "text": [
      "C:\\ProgramData\\Anaconda3\\lib\\site-packages\\seaborn\\_decorators.py:36: FutureWarning: Pass the following variable as a keyword arg: x. From version 0.12, the only valid positional argument will be `data`, and passing other arguments without an explicit keyword will result in an error or misinterpretation.\n",
      "  warnings.warn(\n"
     ]
    },
    {
     "data": {
      "image/png": "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\n",
      "text/plain": [
       "<Figure size 640x480 with 1 Axes>"
      ]
     },
     "metadata": {},
     "output_type": "display_data"
    }
   ],
   "source": [
    "sns.countplot(y_adasyn_oversampled)\n",
    "plt.show()"
   ]
  },
  {
   "cell_type": "markdown",
   "id": "6d9c6c25",
   "metadata": {},
   "source": [
    "## SMOTE\n",
    "- the Synthetic Minority Oversampling Technique (SMOTE)"
   ]
  },
  {
   "cell_type": "code",
   "execution_count": 18,
   "id": "c9cf132f",
   "metadata": {},
   "outputs": [
    {
     "data": {
      "text/html": [
       "<div>\n",
       "<style scoped>\n",
       "    .dataframe tbody tr th:only-of-type {\n",
       "        vertical-align: middle;\n",
       "    }\n",
       "\n",
       "    .dataframe tbody tr th {\n",
       "        vertical-align: top;\n",
       "    }\n",
       "\n",
       "    .dataframe thead th {\n",
       "        text-align: right;\n",
       "    }\n",
       "</style>\n",
       "<table border=\"1\" class=\"dataframe\">\n",
       "  <thead>\n",
       "    <tr style=\"text-align: right;\">\n",
       "      <th></th>\n",
       "      <th>Time</th>\n",
       "      <th>V1</th>\n",
       "      <th>V2</th>\n",
       "      <th>V3</th>\n",
       "      <th>V4</th>\n",
       "      <th>V5</th>\n",
       "      <th>V6</th>\n",
       "      <th>V7</th>\n",
       "      <th>V8</th>\n",
       "      <th>V9</th>\n",
       "      <th>...</th>\n",
       "      <th>V20</th>\n",
       "      <th>V21</th>\n",
       "      <th>V22</th>\n",
       "      <th>V23</th>\n",
       "      <th>V24</th>\n",
       "      <th>V25</th>\n",
       "      <th>V26</th>\n",
       "      <th>V27</th>\n",
       "      <th>V28</th>\n",
       "      <th>Amount</th>\n",
       "    </tr>\n",
       "  </thead>\n",
       "  <tbody>\n",
       "    <tr>\n",
       "      <th>0</th>\n",
       "      <td>-1.996583</td>\n",
       "      <td>-1.359807</td>\n",
       "      <td>-0.072781</td>\n",
       "      <td>2.536347</td>\n",
       "      <td>1.378155</td>\n",
       "      <td>-0.338321</td>\n",
       "      <td>0.462388</td>\n",
       "      <td>0.239599</td>\n",
       "      <td>0.098698</td>\n",
       "      <td>0.363787</td>\n",
       "      <td>...</td>\n",
       "      <td>0.251412</td>\n",
       "      <td>-0.018307</td>\n",
       "      <td>0.277838</td>\n",
       "      <td>-0.110474</td>\n",
       "      <td>0.066928</td>\n",
       "      <td>0.128539</td>\n",
       "      <td>-0.189115</td>\n",
       "      <td>0.133558</td>\n",
       "      <td>-0.021053</td>\n",
       "      <td>1.587299</td>\n",
       "    </tr>\n",
       "    <tr>\n",
       "      <th>1</th>\n",
       "      <td>-1.996583</td>\n",
       "      <td>1.191857</td>\n",
       "      <td>0.266151</td>\n",
       "      <td>0.166480</td>\n",
       "      <td>0.448154</td>\n",
       "      <td>0.060018</td>\n",
       "      <td>-0.082361</td>\n",
       "      <td>-0.078803</td>\n",
       "      <td>0.085102</td>\n",
       "      <td>-0.255425</td>\n",
       "      <td>...</td>\n",
       "      <td>-0.069083</td>\n",
       "      <td>-0.225775</td>\n",
       "      <td>-0.638672</td>\n",
       "      <td>0.101288</td>\n",
       "      <td>-0.339846</td>\n",
       "      <td>0.167170</td>\n",
       "      <td>0.125895</td>\n",
       "      <td>-0.008983</td>\n",
       "      <td>0.014724</td>\n",
       "      <td>-0.795094</td>\n",
       "    </tr>\n",
       "    <tr>\n",
       "      <th>2</th>\n",
       "      <td>-1.996562</td>\n",
       "      <td>-1.358354</td>\n",
       "      <td>-1.340163</td>\n",
       "      <td>1.773209</td>\n",
       "      <td>0.379780</td>\n",
       "      <td>-0.503198</td>\n",
       "      <td>1.800499</td>\n",
       "      <td>0.791461</td>\n",
       "      <td>0.247676</td>\n",
       "      <td>-1.514654</td>\n",
       "      <td>...</td>\n",
       "      <td>0.524980</td>\n",
       "      <td>0.247998</td>\n",
       "      <td>0.771679</td>\n",
       "      <td>0.611875</td>\n",
       "      <td>-0.689281</td>\n",
       "      <td>-0.327642</td>\n",
       "      <td>-0.139097</td>\n",
       "      <td>-0.055353</td>\n",
       "      <td>-0.059752</td>\n",
       "      <td>2.153063</td>\n",
       "    </tr>\n",
       "    <tr>\n",
       "      <th>3</th>\n",
       "      <td>-1.996562</td>\n",
       "      <td>-0.966272</td>\n",
       "      <td>-0.185226</td>\n",
       "      <td>1.792993</td>\n",
       "      <td>-0.863291</td>\n",
       "      <td>-0.010309</td>\n",
       "      <td>1.247203</td>\n",
       "      <td>0.237609</td>\n",
       "      <td>0.377436</td>\n",
       "      <td>-1.387024</td>\n",
       "      <td>...</td>\n",
       "      <td>-0.208038</td>\n",
       "      <td>-0.108300</td>\n",
       "      <td>0.005274</td>\n",
       "      <td>-0.190321</td>\n",
       "      <td>-1.175575</td>\n",
       "      <td>0.647376</td>\n",
       "      <td>-0.221929</td>\n",
       "      <td>0.062723</td>\n",
       "      <td>0.061458</td>\n",
       "      <td>1.163777</td>\n",
       "    </tr>\n",
       "    <tr>\n",
       "      <th>4</th>\n",
       "      <td>-1.996541</td>\n",
       "      <td>-1.158233</td>\n",
       "      <td>0.877737</td>\n",
       "      <td>1.548718</td>\n",
       "      <td>0.403034</td>\n",
       "      <td>-0.407193</td>\n",
       "      <td>0.095921</td>\n",
       "      <td>0.592941</td>\n",
       "      <td>-0.270533</td>\n",
       "      <td>0.817739</td>\n",
       "      <td>...</td>\n",
       "      <td>0.408542</td>\n",
       "      <td>-0.009431</td>\n",
       "      <td>0.798278</td>\n",
       "      <td>-0.137458</td>\n",
       "      <td>0.141267</td>\n",
       "      <td>-0.206010</td>\n",
       "      <td>0.502292</td>\n",
       "      <td>0.219422</td>\n",
       "      <td>0.215153</td>\n",
       "      <td>0.296140</td>\n",
       "    </tr>\n",
       "  </tbody>\n",
       "</table>\n",
       "<p>5 rows × 30 columns</p>\n",
       "</div>"
      ],
      "text/plain": [
       "       Time        V1        V2        V3        V4        V5        V6  \\\n",
       "0 -1.996583 -1.359807 -0.072781  2.536347  1.378155 -0.338321  0.462388   \n",
       "1 -1.996583  1.191857  0.266151  0.166480  0.448154  0.060018 -0.082361   \n",
       "2 -1.996562 -1.358354 -1.340163  1.773209  0.379780 -0.503198  1.800499   \n",
       "3 -1.996562 -0.966272 -0.185226  1.792993 -0.863291 -0.010309  1.247203   \n",
       "4 -1.996541 -1.158233  0.877737  1.548718  0.403034 -0.407193  0.095921   \n",
       "\n",
       "         V7        V8        V9  ...       V20       V21       V22       V23  \\\n",
       "0  0.239599  0.098698  0.363787  ...  0.251412 -0.018307  0.277838 -0.110474   \n",
       "1 -0.078803  0.085102 -0.255425  ... -0.069083 -0.225775 -0.638672  0.101288   \n",
       "2  0.791461  0.247676 -1.514654  ...  0.524980  0.247998  0.771679  0.611875   \n",
       "3  0.237609  0.377436 -1.387024  ... -0.208038 -0.108300  0.005274 -0.190321   \n",
       "4  0.592941 -0.270533  0.817739  ...  0.408542 -0.009431  0.798278 -0.137458   \n",
       "\n",
       "        V24       V25       V26       V27       V28    Amount  \n",
       "0  0.066928  0.128539 -0.189115  0.133558 -0.021053  1.587299  \n",
       "1 -0.339846  0.167170  0.125895 -0.008983  0.014724 -0.795094  \n",
       "2 -0.689281 -0.327642 -0.139097 -0.055353 -0.059752  2.153063  \n",
       "3 -1.175575  0.647376 -0.221929  0.062723  0.061458  1.163777  \n",
       "4  0.141267 -0.206010  0.502292  0.219422  0.215153  0.296140  \n",
       "\n",
       "[5 rows x 30 columns]"
      ]
     },
     "execution_count": 18,
     "metadata": {},
     "output_type": "execute_result"
    }
   ],
   "source": [
    "X_smote_oversampled, y_smote_oversampled = SMOTE().fit_resample(X, y)\n",
    "X_smote_oversampled.head() "
   ]
  },
  {
   "cell_type": "code",
   "execution_count": 19,
   "id": "5f5f421e",
   "metadata": {},
   "outputs": [
    {
     "name": "stdout",
     "output_type": "stream",
     "text": [
      "568630\n",
      "568630\n"
     ]
    }
   ],
   "source": [
    "print(len(X_smote_oversampled))\n",
    "print(len(y_smote_oversampled))"
   ]
  },
  {
   "cell_type": "markdown",
   "id": "00a18879",
   "metadata": {},
   "source": [
    "# train_test_split"
   ]
  },
  {
   "cell_type": "code",
   "execution_count": 20,
   "id": "eff90267",
   "metadata": {},
   "outputs": [],
   "source": [
    "from sklearn.model_selection import train_test_split\n",
    "#Original\n",
    "X_train, X_test, y_train, y_test = train_test_split(X,y, random_state= 42)\n",
    "\n",
    "#Undersampling\n",
    "X_train_ru, X_test_ru, y_train_ru, y_test_ru = train_test_split(X_random_undersampled, y_random_undersampled, random_state= 42)\n",
    "# X_train_eu, X_test_eu, y_train_eu, y_test_eu = train_test_split(X_edited_undersampled, y_edited_undersampled, random_state= 42)\n",
    "\n",
    "#Oversampling\n",
    "X_train_ro, X_test_ro, y_train_ro, y_test_ro = train_test_split(X__random_oversampled, y_random_oversampled, random_state= 42)\n",
    "X_train_ao, X_test_ao, y_train_ao, y_test_ao = train_test_split(X_adasyn_oversampled, y_adasyn_oversampled, random_state= 42)\n",
    "\n",
    "X_train_so, X_test_so, y_train_so, y_test_so = train_test_split(X_smote_oversampled, y_smote_oversampled, random_state= 42)"
   ]
  },
  {
   "cell_type": "code",
   "execution_count": 22,
   "id": "1c4c3635",
   "metadata": {},
   "outputs": [],
   "source": [
    "datasets_aug= {\"original\": [X_train, X_test, y_train, y_test],\n",
    "           \"Random Undersampling\": [X_train_ru, X_test_ru, y_train_ru, y_test_ru],         \n",
    "           \"Random Oversampling\": [X_train_ro, X_test_ro, y_train_ro, y_test_ro],\n",
    "           \"Adasyn Oversampling\": [X_train_ao, X_test_ao, y_train_ao, y_test_ao],\n",
    "           \"Smote Oversampling\": [X_train_so, X_test_so, y_train_so, y_test_so]}"
   ]
  },
  {
   "cell_type": "code",
   "execution_count": null,
   "id": "f7eae0b7",
   "metadata": {},
   "outputs": [],
   "source": []
  },
  {
   "cell_type": "code",
   "execution_count": null,
   "id": "fe0db182",
   "metadata": {},
   "outputs": [],
   "source": []
  },
  {
   "cell_type": "markdown",
   "id": "1f4980ff",
   "metadata": {},
   "source": [
    "# Model training\n"
   ]
  },
  {
   "cell_type": "markdown",
   "id": "de62ce4b",
   "metadata": {},
   "source": [
    "### - We will test with foloowing binary classification algorithms \n",
    "\n",
    "1 -- RandomForest \n",
    "\n",
    "2 -- ANN\n",
    "\n",
    "3 -- Logistic regression\n",
    "\n",
    "4 -- Adaptive Boost\n",
    "\n",
    "### - Comparison of the \" Original\" , \" Undersampled\" , and \" Oversampled datasets\".\n",
    "- Later hyperparameter tuning will be performed in both for the best scoring dataset.\n"
   ]
  },
  {
   "cell_type": "code",
   "execution_count": 21,
   "id": "92c7d890",
   "metadata": {},
   "outputs": [],
   "source": [
    "def training_ml(model, name, dataset):\n",
    "  model.fit(dataset[0], dataset[2])\n",
    "  y_pred=model.predict(dataset[1])\n",
    "  accuracy= accuracy_score(dataset[3],y_pred)\n",
    "  matrix= confusion_matrix(dataset[3],y_pred)\n",
    "  print(f\"The model name is: {name}. It's accuracy is: {accuracy} \\n\")\n",
    "  conf_matrix(matrix)\n",
    "  return accuracy\n",
    "  \n"
   ]
  },
  {
   "cell_type": "code",
   "execution_count": 22,
   "id": "3bc2ce1b",
   "metadata": {},
   "outputs": [],
   "source": [
    "def plot_training_history(history, name):\n",
    "  hist=history.history\n",
    "  plt.figure()\n",
    "  plt.xlabel(\"Epoch\")\n",
    "  plt.ylabel(\"Accuracy\")\n",
    "  plt.title(name)\n",
    "  plt.plot(history.epoch, hist[\"accuracy\"], label=\"Train Acuraccy\")  \n",
    "  plt.plot(history.epoch, hist[\"val_accuracy\"], label=\"Val Acuraccy\")\n",
    "  plt.legend([\"Training\", \"Validation\"], loc=\"best\")\n"
   ]
  },
  {
   "cell_type": "code",
   "execution_count": 23,
   "id": "b838062c",
   "metadata": {},
   "outputs": [],
   "source": [
    "def conf_matrix(confusion_matrix):\n",
    "    plt.figure(figsize=(7,7))\n",
    "    f, ax= plt.subplots()\n",
    "    labels= y_test.unique()\n",
    "    sns.heatmap(confusion_matrix, cmap=\"Blues\", annot = True, xticklabels=labels, yticklabels=labels);\n",
    "    plt.xlabel(\"Predicted\", fontsize=20)\n",
    "    plt.ylabel(\"Actual\", fontsize=20)\n",
    "    plt.show()"
   ]
  },
  {
   "cell_type": "markdown",
   "id": "ee12e518",
   "metadata": {},
   "source": [
    "## Random Forest Classifier"
   ]
  },
  {
   "cell_type": "code",
   "execution_count": 26,
   "id": "d95f5a1d",
   "metadata": {},
   "outputs": [],
   "source": [
    "from sklearn.ensemble import RandomForestClassifier\n",
    "from sklearn.metrics import classification_report, confusion_matrix, accuracy_score"
   ]
  },
  {
   "cell_type": "code",
   "execution_count": 27,
   "id": "fa324940",
   "metadata": {},
   "outputs": [
    {
     "name": "stdout",
     "output_type": "stream",
     "text": [
      "The model name is: original. It's accuracy is: 0.9995786635206876 \n",
      "\n",
      "The model name is: Random Undersampling. It's accuracy is: 0.9146341463414634 \n",
      "\n",
      "The model name is: Random Oversampling. It's accuracy is: 0.9999437245881343 \n",
      "\n",
      "The model name is: Adasyn Oversampling. It's accuracy is: 0.9999015256490514 \n",
      "\n",
      "The model name is: Smote Oversampling. It's accuracy is: 0.9999015180292351 \n",
      "\n"
     ]
    }
   ],
   "source": [
    "rfc= RandomForestClassifier()\n",
    "\n",
    "dic_results_rf= {}\n",
    "for k,v in datasets_aug.items():\n",
    "  acc_rf= training_ml(rfc, k,v)\n",
    "  dic_results_rf[k] = acc_rf\n",
    "  "
   ]
  },
  {
   "cell_type": "code",
   "execution_count": 28,
   "id": "8d6e1161",
   "metadata": {},
   "outputs": [],
   "source": [
    "df_ml_rf= pd.DataFrame(list(dic_results_rf.items()), columns=[\"Sampling_Technique\", \"Accuracy_rf\"])"
   ]
  },
  {
   "cell_type": "code",
   "execution_count": 29,
   "id": "6e9c030a",
   "metadata": {},
   "outputs": [
    {
     "data": {
      "text/html": [
       "<div>\n",
       "<style scoped>\n",
       "    .dataframe tbody tr th:only-of-type {\n",
       "        vertical-align: middle;\n",
       "    }\n",
       "\n",
       "    .dataframe tbody tr th {\n",
       "        vertical-align: top;\n",
       "    }\n",
       "\n",
       "    .dataframe thead th {\n",
       "        text-align: right;\n",
       "    }\n",
       "</style>\n",
       "<table border=\"1\" class=\"dataframe\">\n",
       "  <thead>\n",
       "    <tr style=\"text-align: right;\">\n",
       "      <th></th>\n",
       "      <th>Sampling_Technique</th>\n",
       "      <th>Accuracy_rf</th>\n",
       "    </tr>\n",
       "  </thead>\n",
       "  <tbody>\n",
       "    <tr>\n",
       "      <th>0</th>\n",
       "      <td>original</td>\n",
       "      <td>0.999579</td>\n",
       "    </tr>\n",
       "    <tr>\n",
       "      <th>1</th>\n",
       "      <td>Random Undersampling</td>\n",
       "      <td>0.914634</td>\n",
       "    </tr>\n",
       "    <tr>\n",
       "      <th>2</th>\n",
       "      <td>Random Oversampling</td>\n",
       "      <td>0.999944</td>\n",
       "    </tr>\n",
       "    <tr>\n",
       "      <th>3</th>\n",
       "      <td>Adasyn Oversampling</td>\n",
       "      <td>0.999902</td>\n",
       "    </tr>\n",
       "    <tr>\n",
       "      <th>4</th>\n",
       "      <td>Smote Oversampling</td>\n",
       "      <td>0.999902</td>\n",
       "    </tr>\n",
       "  </tbody>\n",
       "</table>\n",
       "</div>"
      ],
      "text/plain": [
       "     Sampling_Technique  Accuracy_rf\n",
       "0              original     0.999579\n",
       "1  Random Undersampling     0.914634\n",
       "2   Random Oversampling     0.999944\n",
       "3   Adasyn Oversampling     0.999902\n",
       "4    Smote Oversampling     0.999902"
      ]
     },
     "execution_count": 29,
     "metadata": {},
     "output_type": "execute_result"
    }
   ],
   "source": [
    "df_ml_rf"
   ]
  },
  {
   "cell_type": "code",
   "execution_count": 30,
   "id": "487e71af",
   "metadata": {},
   "outputs": [
    {
     "data": {
      "text/plain": [
       "0.9999437245881343"
      ]
     },
     "execution_count": 30,
     "metadata": {},
     "output_type": "execute_result"
    }
   ],
   "source": [
    "max(df_ml_rf['Accuracy_rf'])"
   ]
  },
  {
   "cell_type": "markdown",
   "id": "b6f3e1c4",
   "metadata": {},
   "source": [
    "random oversampling gives higher"
   ]
  },
  {
   "cell_type": "markdown",
   "id": "270d53ad",
   "metadata": {},
   "source": [
    "# Neural Network\n"
   ]
  },
  {
   "cell_type": "code",
   "execution_count": 31,
   "id": "0f9f50ca",
   "metadata": {},
   "outputs": [
    {
     "name": "stdout",
     "output_type": "stream",
     "text": [
      "Model: \"sequential\"\n",
      "_________________________________________________________________\n",
      " Layer (type)                Output Shape              Param #   \n",
      "=================================================================\n",
      " dense (Dense)               (None, 64)                1984      \n",
      "                                                                 \n",
      " dropout (Dropout)           (None, 64)                0         \n",
      "                                                                 \n",
      " dense_1 (Dense)             (None, 32)                2080      \n",
      "                                                                 \n",
      " dropout_1 (Dropout)         (None, 32)                0         \n",
      "                                                                 \n",
      " dense_2 (Dense)             (None, 16)                528       \n",
      "                                                                 \n",
      " dropout_2 (Dropout)         (None, 16)                0         \n",
      "                                                                 \n",
      " dense_3 (Dense)             (None, 1)                 17        \n",
      "                                                                 \n",
      "=================================================================\n",
      "Total params: 4,609\n",
      "Trainable params: 4,609\n",
      "Non-trainable params: 0\n",
      "_________________________________________________________________\n"
     ]
    }
   ],
   "source": [
    "import tensorflow as tf\n",
    "from tensorflow.keras import datasets, callbacks\n",
    "from tensorflow.keras.models import Sequential\n",
    "from tensorflow.keras.layers import LSTM, InputLayer, Dense, Conv2D, Flatten, MaxPooling2D, BatchNormalization, Dropout, RandomFlip, RandomRotation, RandomZoom, InputLayer, Rescaling, Resizing, GlobalAveragePooling2D \n",
    "\n",
    "from tensorflow.keras.optimizers import Adam, SGD\n",
    "from tensorflow.keras.callbacks import Callback, EarlyStopping, ReduceLROnPlateau\n",
    "from sklearn.metrics import accuracy_score, confusion_matrix, classification_report\n",
    "from keras.utils import plot_model\n",
    "\n",
    "\n",
    "\n",
    "\n",
    "# define the input shape\n",
    "input_shape = (X_train.shape[1],)\n",
    "\n",
    "# define the sequential model\n",
    "model = tf.keras.models.Sequential([\n",
    "    tf.keras.layers.Dense(units=64, activation='relu', input_shape=input_shape),\n",
    "    tf.keras.layers.Dropout(0.5),\n",
    "    tf.keras.layers.Dense(units=32, activation='relu'),\n",
    "    tf.keras.layers.Dropout(0.5),\n",
    "    tf.keras.layers.Dense(units=16, activation='relu'),\n",
    "    tf.keras.layers.Dropout(0.5),\n",
    "    tf.keras.layers.Dense(units=1, activation='sigmoid')\n",
    "])\n",
    "\n",
    "# compile the model\n",
    "model.compile(optimizer='adam',\n",
    "              loss='binary_crossentropy',\n",
    "              metrics=['accuracy'])\n",
    "\n",
    "model.summary()\n",
    "\n"
   ]
  },
  {
   "cell_type": "code",
   "execution_count": 32,
   "id": "b52bb35e",
   "metadata": {},
   "outputs": [],
   "source": [
    "# define early stopping callback\n",
    "early_stop = tf.keras.callbacks.EarlyStopping(monitor='val_loss', patience=3)\n",
    "\n",
    "def train_nn(model, name, dataset):\n",
    "  train_history= model.fit(\n",
    "    dataset[0],\n",
    "    dataset[2],\n",
    "    epochs=20,\n",
    "    verbose=2,\n",
    "    validation_split=0.1,\n",
    "    callbacks=[early_stop]\n",
    "  )\n",
    "  score= model.evaluate(dataset[1], dataset[3], verbose=2)\n",
    "  print(f\"\\n Model: {name} \\n\")\n",
    "  print(\"Test Accuracy: {:0.2f} \\n\".format(score[1]*100))\n",
    "  plot_training_history(train_history, name)\n",
    "  return score\n"
   ]
  },
  {
   "cell_type": "code",
   "execution_count": 33,
   "id": "7e13c83f",
   "metadata": {},
   "outputs": [
    {
     "name": "stdout",
     "output_type": "stream",
     "text": [
      "Epoch 1/20\n",
      "6008/6008 - 17s - loss: 0.0200 - accuracy: 0.9956 - val_loss: 0.0024 - val_accuracy: 0.9995 - 17s/epoch - 3ms/step\n",
      "Epoch 2/20\n",
      "6008/6008 - 15s - loss: 0.0067 - accuracy: 0.9989 - val_loss: 0.0028 - val_accuracy: 0.9995 - 15s/epoch - 3ms/step\n",
      "Epoch 3/20\n",
      "6008/6008 - 15s - loss: 0.0059 - accuracy: 0.9989 - val_loss: 0.0025 - val_accuracy: 0.9995 - 15s/epoch - 2ms/step\n",
      "Epoch 4/20\n",
      "6008/6008 - 17s - loss: 0.0050 - accuracy: 0.9991 - val_loss: 0.0021 - val_accuracy: 0.9995 - 17s/epoch - 3ms/step\n",
      "Epoch 5/20\n",
      "6008/6008 - 15s - loss: 0.0047 - accuracy: 0.9991 - val_loss: 0.0021 - val_accuracy: 0.9996 - 15s/epoch - 2ms/step\n",
      "Epoch 6/20\n",
      "6008/6008 - 15s - loss: 0.0045 - accuracy: 0.9991 - val_loss: 0.0019 - val_accuracy: 0.9996 - 15s/epoch - 2ms/step\n",
      "Epoch 7/20\n",
      "6008/6008 - 15s - loss: 0.0046 - accuracy: 0.9991 - val_loss: 0.0020 - val_accuracy: 0.9996 - 15s/epoch - 2ms/step\n",
      "Epoch 8/20\n",
      "6008/6008 - 15s - loss: 0.0044 - accuracy: 0.9991 - val_loss: 0.0018 - val_accuracy: 0.9996 - 15s/epoch - 2ms/step\n",
      "Epoch 9/20\n",
      "6008/6008 - 15s - loss: 0.0045 - accuracy: 0.9991 - val_loss: 0.0020 - val_accuracy: 0.9995 - 15s/epoch - 2ms/step\n",
      "Epoch 10/20\n",
      "6008/6008 - 14s - loss: 0.0044 - accuracy: 0.9991 - val_loss: 0.0022 - val_accuracy: 0.9995 - 14s/epoch - 2ms/step\n",
      "Epoch 11/20\n",
      "6008/6008 - 14s - loss: 0.0040 - accuracy: 0.9991 - val_loss: 0.0018 - val_accuracy: 0.9995 - 14s/epoch - 2ms/step\n",
      "2226/2226 - 3s - loss: 0.0032 - accuracy: 0.9994 - 3s/epoch - 2ms/step\n",
      "\n",
      " Model: original \n",
      "\n",
      "Test Accuracy: 99.94 \n",
      "\n",
      "Epoch 1/20\n",
      "21/21 - 0s - loss: 0.4420 - accuracy: 0.8690 - val_loss: 0.2961 - val_accuracy: 0.9189 - 156ms/epoch - 7ms/step\n",
      "Epoch 2/20\n",
      "21/21 - 0s - loss: 0.3011 - accuracy: 0.9202 - val_loss: 0.1816 - val_accuracy: 0.9459 - 94ms/epoch - 4ms/step\n",
      "Epoch 3/20\n",
      "21/21 - 0s - loss: 0.3158 - accuracy: 0.9292 - val_loss: 0.1733 - val_accuracy: 0.9459 - 94ms/epoch - 4ms/step\n",
      "Epoch 4/20\n",
      "21/21 - 0s - loss: 0.2478 - accuracy: 0.9322 - val_loss: 0.1636 - val_accuracy: 0.9459 - 94ms/epoch - 4ms/step\n",
      "Epoch 5/20\n",
      "21/21 - 0s - loss: 0.2146 - accuracy: 0.9367 - val_loss: 0.1638 - val_accuracy: 0.9459 - 109ms/epoch - 5ms/step\n",
      "Epoch 6/20\n",
      "21/21 - 0s - loss: 0.2063 - accuracy: 0.9383 - val_loss: 0.1538 - val_accuracy: 0.9459 - 94ms/epoch - 4ms/step\n",
      "Epoch 7/20\n",
      "21/21 - 0s - loss: 0.2226 - accuracy: 0.9337 - val_loss: 0.1490 - val_accuracy: 0.9459 - 78ms/epoch - 4ms/step\n",
      "Epoch 8/20\n",
      "21/21 - 0s - loss: 0.1885 - accuracy: 0.9428 - val_loss: 0.1464 - val_accuracy: 0.9459 - 109ms/epoch - 5ms/step\n",
      "Epoch 9/20\n",
      "21/21 - 0s - loss: 0.1878 - accuracy: 0.9443 - val_loss: 0.1401 - val_accuracy: 0.9595 - 109ms/epoch - 5ms/step\n",
      "Epoch 10/20\n",
      "21/21 - 0s - loss: 0.1958 - accuracy: 0.9428 - val_loss: 0.1352 - val_accuracy: 0.9595 - 94ms/epoch - 4ms/step\n",
      "Epoch 11/20\n",
      "21/21 - 0s - loss: 0.1937 - accuracy: 0.9383 - val_loss: 0.1345 - val_accuracy: 0.9595 - 94ms/epoch - 4ms/step\n",
      "Epoch 12/20\n",
      "21/21 - 0s - loss: 0.1695 - accuracy: 0.9488 - val_loss: 0.1301 - val_accuracy: 0.9595 - 94ms/epoch - 4ms/step\n",
      "Epoch 13/20\n",
      "21/21 - 0s - loss: 0.2012 - accuracy: 0.9383 - val_loss: 0.1287 - val_accuracy: 0.9595 - 109ms/epoch - 5ms/step\n",
      "Epoch 14/20\n",
      "21/21 - 0s - loss: 0.1921 - accuracy: 0.9458 - val_loss: 0.1282 - val_accuracy: 0.9595 - 94ms/epoch - 4ms/step\n",
      "Epoch 15/20\n",
      "21/21 - 0s - loss: 0.1711 - accuracy: 0.9458 - val_loss: 0.1283 - val_accuracy: 0.9595 - 94ms/epoch - 4ms/step\n",
      "Epoch 16/20\n",
      "21/21 - 0s - loss: 0.1734 - accuracy: 0.9518 - val_loss: 0.1275 - val_accuracy: 0.9595 - 94ms/epoch - 4ms/step\n",
      "Epoch 17/20\n",
      "21/21 - 0s - loss: 0.1719 - accuracy: 0.9458 - val_loss: 0.1263 - val_accuracy: 0.9595 - 94ms/epoch - 4ms/step\n",
      "Epoch 18/20\n",
      "21/21 - 0s - loss: 0.1824 - accuracy: 0.9428 - val_loss: 0.1256 - val_accuracy: 0.9595 - 94ms/epoch - 4ms/step\n",
      "Epoch 19/20\n",
      "21/21 - 0s - loss: 0.1368 - accuracy: 0.9578 - val_loss: 0.1224 - val_accuracy: 0.9595 - 109ms/epoch - 5ms/step\n",
      "Epoch 20/20\n",
      "21/21 - 0s - loss: 0.1638 - accuracy: 0.9503 - val_loss: 0.1214 - val_accuracy: 0.9595 - 109ms/epoch - 5ms/step\n",
      "8/8 - 0s - loss: 0.1832 - accuracy: 0.9472 - 47ms/epoch - 6ms/step\n",
      "\n",
      " Model: Random Undersampling \n",
      "\n",
      "Test Accuracy: 94.72 \n",
      "\n",
      "Epoch 1/20\n",
      "11995/11995 - 29s - loss: 0.0768 - accuracy: 0.9732 - val_loss: 0.0343 - val_accuracy: 0.9915 - 29s/epoch - 2ms/step\n",
      "Epoch 2/20\n",
      "11995/11995 - 29s - loss: 0.0290 - accuracy: 0.9903 - val_loss: 0.0123 - val_accuracy: 0.9957 - 29s/epoch - 2ms/step\n",
      "Epoch 3/20\n",
      "11995/11995 - 29s - loss: 0.0225 - accuracy: 0.9933 - val_loss: 0.0086 - val_accuracy: 0.9979 - 29s/epoch - 2ms/step\n",
      "Epoch 4/20\n",
      "11995/11995 - 29s - loss: 0.0184 - accuracy: 0.9949 - val_loss: 0.0060 - val_accuracy: 0.9985 - 29s/epoch - 2ms/step\n",
      "Epoch 5/20\n",
      "11995/11995 - 29s - loss: 0.0163 - accuracy: 0.9956 - val_loss: 0.0049 - val_accuracy: 0.9991 - 29s/epoch - 2ms/step\n",
      "Epoch 6/20\n",
      "11995/11995 - 29s - loss: 0.0150 - accuracy: 0.9961 - val_loss: 0.0046 - val_accuracy: 0.9991 - 29s/epoch - 2ms/step\n",
      "Epoch 7/20\n",
      "11995/11995 - 29s - loss: 0.0140 - accuracy: 0.9963 - val_loss: 0.0039 - val_accuracy: 0.9992 - 29s/epoch - 2ms/step\n",
      "Epoch 8/20\n",
      "11995/11995 - 29s - loss: 0.0126 - accuracy: 0.9968 - val_loss: 0.0042 - val_accuracy: 0.9994 - 29s/epoch - 2ms/step\n",
      "Epoch 9/20\n",
      "11995/11995 - 29s - loss: 0.0128 - accuracy: 0.9969 - val_loss: 0.0045 - val_accuracy: 0.9993 - 29s/epoch - 2ms/step\n",
      "Epoch 10/20\n",
      "11995/11995 - 31s - loss: 0.0119 - accuracy: 0.9971 - val_loss: 0.0030 - val_accuracy: 0.9995 - 31s/epoch - 3ms/step\n",
      "Epoch 11/20\n",
      "11995/11995 - 30s - loss: 0.0115 - accuracy: 0.9971 - val_loss: 0.0027 - val_accuracy: 0.9994 - 30s/epoch - 2ms/step\n",
      "Epoch 12/20\n",
      "11995/11995 - 30s - loss: 0.0118 - accuracy: 0.9972 - val_loss: 0.0026 - val_accuracy: 0.9996 - 30s/epoch - 2ms/step\n",
      "Epoch 13/20\n",
      "11995/11995 - 28s - loss: 0.0104 - accuracy: 0.9974 - val_loss: 0.0031 - val_accuracy: 0.9996 - 28s/epoch - 2ms/step\n",
      "Epoch 14/20\n",
      "11995/11995 - 27s - loss: 0.0100 - accuracy: 0.9975 - val_loss: 0.0029 - val_accuracy: 0.9994 - 27s/epoch - 2ms/step\n",
      "Epoch 15/20\n",
      "11995/11995 - 28s - loss: 0.0104 - accuracy: 0.9975 - val_loss: 0.0029 - val_accuracy: 0.9996 - 28s/epoch - 2ms/step\n",
      "4443/4443 - 7s - loss: 0.0029 - accuracy: 0.9995 - 7s/epoch - 2ms/step\n",
      "\n",
      " Model: Random Oversampling \n",
      "\n",
      "Test Accuracy: 99.95 \n",
      "\n",
      "Epoch 1/20\n",
      "11996/11996 - 28s - loss: 0.0107 - accuracy: 0.9977 - val_loss: 0.0028 - val_accuracy: 0.9996 - 28s/epoch - 2ms/step\n",
      "Epoch 2/20\n",
      "11996/11996 - 29s - loss: 0.0106 - accuracy: 0.9976 - val_loss: 0.0027 - val_accuracy: 0.9997 - 29s/epoch - 2ms/step\n",
      "Epoch 3/20\n",
      "11996/11996 - 27s - loss: 0.0106 - accuracy: 0.9975 - val_loss: 0.0021 - val_accuracy: 0.9997 - 27s/epoch - 2ms/step\n",
      "Epoch 4/20\n",
      "11996/11996 - 28s - loss: 0.0106 - accuracy: 0.9976 - val_loss: 0.0022 - val_accuracy: 0.9996 - 28s/epoch - 2ms/step\n",
      "Epoch 5/20\n",
      "11996/11996 - 26s - loss: 0.0103 - accuracy: 0.9977 - val_loss: 0.0027 - val_accuracy: 0.9997 - 26s/epoch - 2ms/step\n",
      "Epoch 6/20\n",
      "11996/11996 - 25s - loss: 0.0097 - accuracy: 0.9979 - val_loss: 0.0025 - val_accuracy: 0.9996 - 25s/epoch - 2ms/step\n",
      "4443/4443 - 6s - loss: 0.0022 - accuracy: 0.9997 - 6s/epoch - 1ms/step\n",
      "\n",
      " Model: Adasyn Oversampling \n",
      "\n",
      "Test Accuracy: 99.97 \n",
      "\n",
      "Epoch 1/20\n",
      "11995/11995 - 25s - loss: 0.0094 - accuracy: 0.9977 - val_loss: 0.0025 - val_accuracy: 0.9996 - 25s/epoch - 2ms/step\n",
      "Epoch 2/20\n",
      "11995/11995 - 26s - loss: 0.0095 - accuracy: 0.9977 - val_loss: 0.0024 - val_accuracy: 0.9996 - 26s/epoch - 2ms/step\n",
      "Epoch 3/20\n",
      "11995/11995 - 26s - loss: 0.0093 - accuracy: 0.9979 - val_loss: 0.0026 - val_accuracy: 0.9997 - 26s/epoch - 2ms/step\n",
      "Epoch 4/20\n",
      "11995/11995 - 26s - loss: 0.0091 - accuracy: 0.9978 - val_loss: 0.0035 - val_accuracy: 0.9996 - 26s/epoch - 2ms/step\n",
      "Epoch 5/20\n",
      "11995/11995 - 26s - loss: 0.0092 - accuracy: 0.9978 - val_loss: 0.0035 - val_accuracy: 0.9996 - 26s/epoch - 2ms/step\n",
      "4443/4443 - 6s - loss: 0.0032 - accuracy: 0.9997 - 6s/epoch - 1ms/step\n",
      "\n",
      " Model: Smote Oversampling \n",
      "\n",
      "Test Accuracy: 99.97 \n",
      "\n"
     ]
    },
    {
     "data": {
      "image/png": "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\n",
      "text/plain": [
       "<Figure size 640x480 with 1 Axes>"
      ]
     },
     "metadata": {},
     "output_type": "display_data"
    },
    {
     "data": {
      "image/png": "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\n",
      "text/plain": [
       "<Figure size 640x480 with 1 Axes>"
      ]
     },
     "metadata": {},
     "output_type": "display_data"
    },
    {
     "data": {
      "image/png": "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\n",
      "text/plain": [
       "<Figure size 640x480 with 1 Axes>"
      ]
     },
     "metadata": {},
     "output_type": "display_data"
    },
    {
     "data": {
      "image/png": "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\n",
      "text/plain": [
       "<Figure size 640x480 with 1 Axes>"
      ]
     },
     "metadata": {},
     "output_type": "display_data"
    },
    {
     "data": {
      "image/png": "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\n",
      "text/plain": [
       "<Figure size 640x480 with 1 Axes>"
      ]
     },
     "metadata": {},
     "output_type": "display_data"
    }
   ],
   "source": [
    "dic_results_nn= {}\n",
    "for k,v in datasets_aug.items():\n",
    "  acc_ann = train_nn(model, k,v)\n",
    "  dic_results_nn[k] = acc_ann[1]\n"
   ]
  },
  {
   "cell_type": "code",
   "execution_count": 34,
   "id": "5c52e8ce",
   "metadata": {},
   "outputs": [
    {
     "data": {
      "text/html": [
       "<div>\n",
       "<style scoped>\n",
       "    .dataframe tbody tr th:only-of-type {\n",
       "        vertical-align: middle;\n",
       "    }\n",
       "\n",
       "    .dataframe tbody tr th {\n",
       "        vertical-align: top;\n",
       "    }\n",
       "\n",
       "    .dataframe thead th {\n",
       "        text-align: right;\n",
       "    }\n",
       "</style>\n",
       "<table border=\"1\" class=\"dataframe\">\n",
       "  <thead>\n",
       "    <tr style=\"text-align: right;\">\n",
       "      <th></th>\n",
       "      <th>sampling_Techniques</th>\n",
       "      <th>Accuracy_nn</th>\n",
       "    </tr>\n",
       "  </thead>\n",
       "  <tbody>\n",
       "    <tr>\n",
       "      <th>0</th>\n",
       "      <td>original</td>\n",
       "      <td>0.999354</td>\n",
       "    </tr>\n",
       "    <tr>\n",
       "      <th>1</th>\n",
       "      <td>Random Undersampling</td>\n",
       "      <td>0.947154</td>\n",
       "    </tr>\n",
       "    <tr>\n",
       "      <th>2</th>\n",
       "      <td>Random Oversampling</td>\n",
       "      <td>0.999550</td>\n",
       "    </tr>\n",
       "    <tr>\n",
       "      <th>3</th>\n",
       "      <td>Adasyn Oversampling</td>\n",
       "      <td>0.999691</td>\n",
       "    </tr>\n",
       "    <tr>\n",
       "      <th>4</th>\n",
       "      <td>Smote Oversampling</td>\n",
       "      <td>0.999669</td>\n",
       "    </tr>\n",
       "  </tbody>\n",
       "</table>\n",
       "</div>"
      ],
      "text/plain": [
       "    sampling_Techniques  Accuracy_nn\n",
       "0              original     0.999354\n",
       "1  Random Undersampling     0.947154\n",
       "2   Random Oversampling     0.999550\n",
       "3   Adasyn Oversampling     0.999691\n",
       "4    Smote Oversampling     0.999669"
      ]
     },
     "execution_count": 34,
     "metadata": {},
     "output_type": "execute_result"
    }
   ],
   "source": [
    "df_ml_nn= pd.DataFrame(list(dic_results_nn.items()), columns=[\"sampling_Techniques\", \"Accuracy_nn\"])\n",
    "df_ml_nn"
   ]
  },
  {
   "cell_type": "code",
   "execution_count": 35,
   "id": "c8cc3d58",
   "metadata": {},
   "outputs": [
    {
     "data": {
      "text/plain": [
       "0.9996905326843262"
      ]
     },
     "execution_count": 35,
     "metadata": {},
     "output_type": "execute_result"
    }
   ],
   "source": [
    "max(df_ml_nn['Accuracy_nn'])"
   ]
  },
  {
   "cell_type": "markdown",
   "id": "252a1972",
   "metadata": {},
   "source": [
    "### HIGHEST ACCURACY BY SMOTE OVERSAMPLING"
   ]
  },
  {
   "cell_type": "markdown",
   "id": "8a42e0ff",
   "metadata": {},
   "source": [
    "## MODEL - LOGISTIC REGRESSION"
   ]
  },
  {
   "cell_type": "code",
   "execution_count": 36,
   "id": "df25a19d",
   "metadata": {},
   "outputs": [
    {
     "name": "stdout",
     "output_type": "stream",
     "text": [
      "The model name is: original. It's accuracy is: 0.9993820398303418 \n",
      "\n",
      "The model name is: Random Undersampling. It's accuracy is: 0.9146341463414634 \n",
      "\n",
      "The model name is: Random Oversampling. It's accuracy is: 0.9518774884283684 \n",
      "\n",
      "The model name is: Adasyn Oversampling. It's accuracy is: 0.8940064289683405 \n",
      "\n",
      "The model name is: Smote Oversampling. It's accuracy is: 0.9503158457490961 \n",
      "\n"
     ]
    }
   ],
   "source": [
    "\n",
    "from sklearn.linear_model import LogisticRegression\n",
    "\n",
    "logistic = LogisticRegression(C=1e5)\n",
    "\n",
    "dic_results_log= {}\n",
    "for k,v in datasets_aug.items():\n",
    "  acc_log= training_ml(logistic, k,v)\n",
    "  dic_results_log[k] = acc_log"
   ]
  },
  {
   "cell_type": "code",
   "execution_count": 37,
   "id": "e318dd8c",
   "metadata": {},
   "outputs": [
    {
     "data": {
      "text/html": [
       "<div>\n",
       "<style scoped>\n",
       "    .dataframe tbody tr th:only-of-type {\n",
       "        vertical-align: middle;\n",
       "    }\n",
       "\n",
       "    .dataframe tbody tr th {\n",
       "        vertical-align: top;\n",
       "    }\n",
       "\n",
       "    .dataframe thead th {\n",
       "        text-align: right;\n",
       "    }\n",
       "</style>\n",
       "<table border=\"1\" class=\"dataframe\">\n",
       "  <thead>\n",
       "    <tr style=\"text-align: right;\">\n",
       "      <th></th>\n",
       "      <th>Sampling_Techniques</th>\n",
       "      <th>Accuracy_log</th>\n",
       "    </tr>\n",
       "  </thead>\n",
       "  <tbody>\n",
       "    <tr>\n",
       "      <th>0</th>\n",
       "      <td>original</td>\n",
       "      <td>0.999382</td>\n",
       "    </tr>\n",
       "    <tr>\n",
       "      <th>1</th>\n",
       "      <td>Random Undersampling</td>\n",
       "      <td>0.914634</td>\n",
       "    </tr>\n",
       "    <tr>\n",
       "      <th>2</th>\n",
       "      <td>Random Oversampling</td>\n",
       "      <td>0.951877</td>\n",
       "    </tr>\n",
       "    <tr>\n",
       "      <th>3</th>\n",
       "      <td>Adasyn Oversampling</td>\n",
       "      <td>0.894006</td>\n",
       "    </tr>\n",
       "    <tr>\n",
       "      <th>4</th>\n",
       "      <td>Smote Oversampling</td>\n",
       "      <td>0.950316</td>\n",
       "    </tr>\n",
       "  </tbody>\n",
       "</table>\n",
       "</div>"
      ],
      "text/plain": [
       "    Sampling_Techniques  Accuracy_log\n",
       "0              original      0.999382\n",
       "1  Random Undersampling      0.914634\n",
       "2   Random Oversampling      0.951877\n",
       "3   Adasyn Oversampling      0.894006\n",
       "4    Smote Oversampling      0.950316"
      ]
     },
     "execution_count": 37,
     "metadata": {},
     "output_type": "execute_result"
    }
   ],
   "source": [
    "df_ml_log= pd.DataFrame(list(dic_results_log.items()), columns=[\"Sampling_Techniques\", \"Accuracy_log\"])\n",
    "df_ml_log"
   ]
  },
  {
   "cell_type": "code",
   "execution_count": 38,
   "id": "dac38d37",
   "metadata": {},
   "outputs": [
    {
     "data": {
      "text/plain": [
       "0.9993820398303418"
      ]
     },
     "execution_count": 38,
     "metadata": {},
     "output_type": "execute_result"
    }
   ],
   "source": [
    "max(df_ml_log['Accuracy_log'])   #highest by original dataset which is imabalanced"
   ]
  },
  {
   "cell_type": "markdown",
   "id": "eb5ffb46",
   "metadata": {},
   "source": [
    "# AdaBoost"
   ]
  },
  {
   "cell_type": "code",
   "execution_count": 39,
   "id": "9762922c",
   "metadata": {},
   "outputs": [
    {
     "name": "stdout",
     "output_type": "stream",
     "text": [
      "The model name is: original. It's accuracy is: 0.9992415943372377 \n",
      "\n",
      "The model name is: Random Undersampling. It's accuracy is: 0.9227642276422764 \n",
      "\n",
      "The model name is: Random Oversampling. It's accuracy is: 0.9638430478763066 \n",
      "\n",
      "The model name is: Adasyn Oversampling. It's accuracy is: 0.9390514106450774 \n",
      "\n",
      "The model name is: Smote Oversampling. It's accuracy is: 0.9668256447051872 \n",
      "\n"
     ]
    }
   ],
   "source": [
    "from sklearn import ensemble\n",
    "\n",
    "# Creating classifier Object\n",
    "ada = ensemble.AdaBoostClassifier()\n",
    "\n",
    "dic_results_ada= {}\n",
    "for k,v in datasets_aug.items():\n",
    "  acc_ada= training_ml(ada, k,v)\n",
    "  dic_results_ada[k] = acc_ada"
   ]
  },
  {
   "cell_type": "code",
   "execution_count": 40,
   "id": "04c40501",
   "metadata": {},
   "outputs": [
    {
     "data": {
      "text/html": [
       "<div>\n",
       "<style scoped>\n",
       "    .dataframe tbody tr th:only-of-type {\n",
       "        vertical-align: middle;\n",
       "    }\n",
       "\n",
       "    .dataframe tbody tr th {\n",
       "        vertical-align: top;\n",
       "    }\n",
       "\n",
       "    .dataframe thead th {\n",
       "        text-align: right;\n",
       "    }\n",
       "</style>\n",
       "<table border=\"1\" class=\"dataframe\">\n",
       "  <thead>\n",
       "    <tr style=\"text-align: right;\">\n",
       "      <th></th>\n",
       "      <th>Sampling_Techniques</th>\n",
       "      <th>Accuracy_ada</th>\n",
       "    </tr>\n",
       "  </thead>\n",
       "  <tbody>\n",
       "    <tr>\n",
       "      <th>0</th>\n",
       "      <td>original</td>\n",
       "      <td>0.999242</td>\n",
       "    </tr>\n",
       "    <tr>\n",
       "      <th>1</th>\n",
       "      <td>Random Undersampling</td>\n",
       "      <td>0.922764</td>\n",
       "    </tr>\n",
       "    <tr>\n",
       "      <th>2</th>\n",
       "      <td>Random Oversampling</td>\n",
       "      <td>0.963843</td>\n",
       "    </tr>\n",
       "    <tr>\n",
       "      <th>3</th>\n",
       "      <td>Adasyn Oversampling</td>\n",
       "      <td>0.939051</td>\n",
       "    </tr>\n",
       "    <tr>\n",
       "      <th>4</th>\n",
       "      <td>Smote Oversampling</td>\n",
       "      <td>0.966826</td>\n",
       "    </tr>\n",
       "  </tbody>\n",
       "</table>\n",
       "</div>"
      ],
      "text/plain": [
       "    Sampling_Techniques  Accuracy_ada\n",
       "0              original      0.999242\n",
       "1  Random Undersampling      0.922764\n",
       "2   Random Oversampling      0.963843\n",
       "3   Adasyn Oversampling      0.939051\n",
       "4    Smote Oversampling      0.966826"
      ]
     },
     "execution_count": 40,
     "metadata": {},
     "output_type": "execute_result"
    }
   ],
   "source": [
    "df_ml_ada= pd.DataFrame(list(dic_results_ada.items()), columns=[\"Sampling_Techniques\", \"Accuracy_ada\"])\n",
    "df_ml_ada"
   ]
  },
  {
   "cell_type": "code",
   "execution_count": 41,
   "id": "719511fa",
   "metadata": {},
   "outputs": [
    {
     "data": {
      "text/plain": [
       "0.9992415943372377"
      ]
     },
     "execution_count": 41,
     "metadata": {},
     "output_type": "execute_result"
    }
   ],
   "source": [
    "max(df_ml_ada['Accuracy_ada'])    #highest by original dataset which is imabalanced"
   ]
  },
  {
   "cell_type": "code",
   "execution_count": null,
   "id": "69875122",
   "metadata": {},
   "outputs": [],
   "source": []
  },
  {
   "cell_type": "markdown",
   "id": "2e5d7631",
   "metadata": {},
   "source": [
    "# Hyperparameter Tuning "
   ]
  },
  {
   "cell_type": "markdown",
   "id": "1f9a37e1",
   "metadata": {},
   "source": [
    " # Random forest"
   ]
  },
  {
   "cell_type": "code",
   "execution_count": 42,
   "id": "9320de57",
   "metadata": {},
   "outputs": [
    {
     "name": "stdout",
     "output_type": "stream",
     "text": [
      "Fitting 30 folds for each of 162 candidates, totalling 4860 fits\n"
     ]
    },
    {
     "data": {
      "text/plain": [
       "GridSearchCV(cv=RepeatedStratifiedKFold(n_repeats=3, n_splits=10, random_state=1),\n",
       "             estimator=RandomForestClassifier(), n_jobs=-1,\n",
       "             param_grid={'criterion': ('gini', 'entropy'),\n",
       "                         'max_depth': [1, 2, 3, 4, 5, 6, 7, 8, 9],\n",
       "                         'min_samples_leaf': [1, 2, 3, 4, 5, 6, 7, 8, 9]},\n",
       "             scoring='accuracy', verbose=1)"
      ]
     },
     "execution_count": 42,
     "metadata": {},
     "output_type": "execute_result"
    }
   ],
   "source": [
    "from sklearn.model_selection import RepeatedStratifiedKFold\n",
    "cv = RepeatedStratifiedKFold(n_splits=10, n_repeats=3, random_state=1)\n",
    "\n",
    "params_rf={\n",
    "    \"criterion\": (\"gini\", \"entropy\"),\n",
    "    \"min_samples_leaf\": list(range(1,10)),\n",
    "    \"max_depth\": list(range(1,10))\n",
    "    }\n",
    "\n",
    "\n",
    "from sklearn.model_selection import GridSearchCV\n",
    "\n",
    "gs= GridSearchCV(rfc, params_rf, scoring= \"accuracy\", n_jobs=-1, cv=cv, verbose=1)\n",
    "gs.fit(X_train_ru, y_train_ru)"
   ]
  },
  {
   "cell_type": "code",
   "execution_count": 43,
   "id": "488fa3d5",
   "metadata": {},
   "outputs": [
    {
     "data": {
      "text/plain": [
       "RandomForestClassifier(criterion='entropy', max_depth=8, min_samples_leaf=2)"
      ]
     },
     "execution_count": 43,
     "metadata": {},
     "output_type": "execute_result"
    }
   ],
   "source": [
    "gs.best_estimator_"
   ]
  },
  {
   "cell_type": "code",
   "execution_count": 44,
   "id": "39e36ca0",
   "metadata": {},
   "outputs": [
    {
     "data": {
      "text/plain": [
       "{'criterion': 'entropy', 'max_depth': 8, 'min_samples_leaf': 2}"
      ]
     },
     "execution_count": 44,
     "metadata": {},
     "output_type": "execute_result"
    }
   ],
   "source": [
    "gs.best_params_"
   ]
  },
  {
   "cell_type": "code",
   "execution_count": 45,
   "id": "7f1c134f",
   "metadata": {},
   "outputs": [
    {
     "name": "stdout",
     "output_type": "stream",
     "text": [
      "The model name is: Random UnderSampling. It's accuracy is: 0.9146341463414634 \n",
      "\n"
     ]
    }
   ],
   "source": [
    "rfc_new= RandomForestClassifier(criterion = 'gini', max_depth= 7, min_samples_leaf = 5)\n",
    "\n",
    "model= training_ml(rfc_new, \"Random UnderSampling\",datasets_aug[\"Random Undersampling\"])"
   ]
  },
  {
   "cell_type": "markdown",
   "id": "afd4b5fe",
   "metadata": {},
   "source": [
    "# Hyperparameter Tuning of Neural Network:"
   ]
  },
  {
   "cell_type": "code",
   "execution_count": 46,
   "id": "55b7393f",
   "metadata": {},
   "outputs": [],
   "source": [
    "params_nn={\n",
    "    \"epochs\": list(range(10,30)),\n",
    "    'activation': ['relu', 'tanh'],\n",
    "    \"optimizer\": [\"adam\", \"SGD\"],\n",
    "}"
   ]
  },
  {
   "cell_type": "code",
   "execution_count": 48,
   "id": "7eb2a718",
   "metadata": {},
   "outputs": [],
   "source": [
    "from keras.models import Sequential\n",
    "from keras.layers import Dense\n",
    "from keras.wrappers.scikit_learn import KerasClassifier\n",
    "from sklearn.model_selection import GridSearchCV\n",
    "from sklearn.datasets import make_classification\n",
    "from sklearn.model_selection import train_test_split\n",
    "import numpy as np\n",
    "\n",
    "# Define the neural network architecture\n",
    "def create_model(optimizer='sgd', activation='relu'):\n",
    "    # define the input shape\n",
    "    input_shape = (X_train.shape[1],)\n",
    "\n",
    "    # define the sequential model\n",
    "    model = tf.keras.models.Sequential([\n",
    "        tf.keras.layers.Dense(units=64, activation= activation, input_shape=input_shape),\n",
    "        tf.keras.layers.Dropout(0.5),\n",
    "        tf.keras.layers.Dense(units=32, activation=activation),\n",
    "        tf.keras.layers.Dropout(0.5),\n",
    "        tf.keras.layers.Dense(units=16, activation=activation),\n",
    "        tf.keras.layers.Dropout(0.5),\n",
    "        tf.keras.layers.Dense(units=1, activation='sigmoid')\n",
    "    ])\n",
    "\n",
    "    # compile the model\n",
    "    model.compile(optimizer= optimizer,\n",
    "                  loss='binary_crossentropy',\n",
    "                  metrics=['accuracy'])\n",
    "\n",
    "    return model\n",
    "\n"
   ]
  },
  {
   "cell_type": "code",
   "execution_count": 50,
   "id": "9de552cd",
   "metadata": {},
   "outputs": [
    {
     "name": "stdout",
     "output_type": "stream",
     "text": [
      "Best parameters:  {'activation': 'relu', 'epochs': 27, 'optimizer': 'adam'}\n",
      "Best score:  0.9457994500796\n"
     ]
    }
   ],
   "source": [
    "\n",
    "# Define the hyperparameter grid\n",
    "params_nn={\n",
    "    \"epochs\": list(range(10,30)),\n",
    "    'activation': ['relu', 'tanh'],\n",
    "    \"optimizer\": [\"adam\", \"sgd\", \"AdamW\"] }\n",
    "\n",
    "# Create a Keras classifier\n",
    "keras_clf = KerasClassifier(build_fn=create_model, epochs=20, batch_size=32, verbose=0)\n",
    "\n",
    "# Create a GridSearchCV object\n",
    "grid_search = GridSearchCV(estimator=keras_clf, param_grid=params_nn, cv=3)\n",
    "\n",
    "# Fit the GridSearchCV object to the training data\n",
    "grid_search.fit(datasets_aug[\"Random Undersampling\"][0], datasets_aug[\"Random Undersampling\"][2])\n",
    "\n",
    "# Print the best parameters and score\n",
    "print(\"Best parameters: \", grid_search.best_params_)\n",
    "print(\"Best score: \", grid_search.best_score_)\n"
   ]
  },
  {
   "cell_type": "code",
   "execution_count": 51,
   "id": "21cf9fb0",
   "metadata": {},
   "outputs": [],
   "source": [
    "input_shape = (X_train.shape[1],)\n",
    "\n",
    "    # define the sequential model\n",
    "model = tf.keras.models.Sequential([\n",
    "        tf.keras.layers.Dense(units=64, activation= \"tanh\", input_shape=input_shape),\n",
    "        tf.keras.layers.Dropout(0.5),\n",
    "        tf.keras.layers.Dense(units=32, activation=\"tanh\"),\n",
    "        tf.keras.layers.Dropout(0.5),\n",
    "        tf.keras.layers.Dense(units=16, activation=\"tanh\"),\n",
    "        tf.keras.layers.Dropout(0.5),\n",
    "        tf.keras.layers.Dense(units=1, activation='sigmoid')\n",
    "    ])\n",
    "\n",
    "    # compile the model\n",
    "model.compile(optimizer= \"adam\",\n",
    "                  loss='binary_crossentropy',\n",
    "                  metrics=['accuracy'])"
   ]
  },
  {
   "cell_type": "code",
   "execution_count": 52,
   "id": "d67e6eec",
   "metadata": {},
   "outputs": [
    {
     "name": "stdout",
     "output_type": "stream",
     "text": [
      "Epoch 1/26\n",
      "21/21 - 1s - loss: 0.7140 - accuracy: 0.5738 - val_loss: 0.5098 - val_accuracy: 0.6757 - 1s/epoch - 65ms/step\n",
      "Epoch 2/26\n",
      "21/21 - 0s - loss: 0.5700 - accuracy: 0.6883 - val_loss: 0.4107 - val_accuracy: 0.8378 - 92ms/epoch - 4ms/step\n",
      "Epoch 3/26\n",
      "21/21 - 0s - loss: 0.4884 - accuracy: 0.7500 - val_loss: 0.3392 - val_accuracy: 0.9054 - 76ms/epoch - 4ms/step\n",
      "Epoch 4/26\n",
      "21/21 - 0s - loss: 0.4579 - accuracy: 0.7907 - val_loss: 0.2796 - val_accuracy: 0.9189 - 76ms/epoch - 4ms/step\n",
      "Epoch 5/26\n",
      "21/21 - 0s - loss: 0.3955 - accuracy: 0.8298 - val_loss: 0.2345 - val_accuracy: 0.9324 - 83ms/epoch - 4ms/step\n",
      "Epoch 6/26\n",
      "21/21 - 0s - loss: 0.3593 - accuracy: 0.8584 - val_loss: 0.2017 - val_accuracy: 0.9324 - 72ms/epoch - 3ms/step\n",
      "Epoch 7/26\n",
      "21/21 - 0s - loss: 0.3266 - accuracy: 0.8675 - val_loss: 0.1757 - val_accuracy: 0.9595 - 70ms/epoch - 3ms/step\n",
      "Epoch 8/26\n",
      "21/21 - 0s - loss: 0.3130 - accuracy: 0.8901 - val_loss: 0.1599 - val_accuracy: 0.9459 - 83ms/epoch - 4ms/step\n",
      "Epoch 9/26\n",
      "21/21 - 0s - loss: 0.2886 - accuracy: 0.8901 - val_loss: 0.1437 - val_accuracy: 0.9459 - 82ms/epoch - 4ms/step\n",
      "Epoch 10/26\n",
      "21/21 - 0s - loss: 0.2357 - accuracy: 0.9247 - val_loss: 0.1312 - val_accuracy: 0.9459 - 80ms/epoch - 4ms/step\n",
      "Epoch 11/26\n",
      "21/21 - 0s - loss: 0.2404 - accuracy: 0.9157 - val_loss: 0.1212 - val_accuracy: 0.9595 - 83ms/epoch - 4ms/step\n",
      "Epoch 12/26\n",
      "21/21 - 0s - loss: 0.2176 - accuracy: 0.9142 - val_loss: 0.1180 - val_accuracy: 0.9459 - 91ms/epoch - 4ms/step\n",
      "Epoch 13/26\n",
      "21/21 - 0s - loss: 0.2265 - accuracy: 0.9367 - val_loss: 0.1163 - val_accuracy: 0.9459 - 77ms/epoch - 4ms/step\n",
      "Epoch 14/26\n",
      "21/21 - 0s - loss: 0.2127 - accuracy: 0.9352 - val_loss: 0.1105 - val_accuracy: 0.9595 - 85ms/epoch - 4ms/step\n",
      "Epoch 15/26\n",
      "21/21 - 0s - loss: 0.2188 - accuracy: 0.9322 - val_loss: 0.1091 - val_accuracy: 0.9595 - 76ms/epoch - 4ms/step\n",
      "Epoch 16/26\n",
      "21/21 - 0s - loss: 0.2128 - accuracy: 0.9322 - val_loss: 0.1111 - val_accuracy: 0.9595 - 76ms/epoch - 4ms/step\n",
      "Epoch 17/26\n",
      "21/21 - 0s - loss: 0.1910 - accuracy: 0.9307 - val_loss: 0.1137 - val_accuracy: 0.9595 - 82ms/epoch - 4ms/step\n",
      "Epoch 18/26\n",
      "21/21 - 0s - loss: 0.1923 - accuracy: 0.9322 - val_loss: 0.1099 - val_accuracy: 0.9595 - 71ms/epoch - 3ms/step\n",
      "8/8 - 0s - loss: 0.2426 - accuracy: 0.9187 - 31ms/epoch - 4ms/step\n",
      "\n",
      " Model: Random Undersampling \n",
      "\n",
      "Test Accuracy: 91.87 \n",
      "\n"
     ]
    },
    {
     "data": {
      "image/png": "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\n",
      "text/plain": [
       "<Figure size 640x480 with 1 Axes>"
      ]
     },
     "metadata": {},
     "output_type": "display_data"
    }
   ],
   "source": [
    "train_history= model.fit(X_train_ru,y_train_ru,\n",
    "                         epochs=27,\n",
    "                         verbose=2,\n",
    "                         validation_split=0.1,\n",
    "                         callbacks=[early_stop]\n",
    "                        )\n",
    "\n",
    "\n",
    "score= model.evaluate(datasets_aug[\"Random Undersampling\"][1], datasets_aug[\"Random Undersampling\"][3], verbose=2)\n",
    "print(f\"\\n Model: Random Undersampling \\n\")\n",
    "print(\"Test Accuracy: {:0.2f} \\n\".format(score[1]*100))\n",
    "plot_training_history(train_history, \"Random Undersampling\")"
   ]
  },
  {
   "cell_type": "code",
   "execution_count": null,
   "id": "ba09d6d7",
   "metadata": {},
   "outputs": [],
   "source": []
  },
  {
   "cell_type": "markdown",
   "id": "6fc5425f",
   "metadata": {},
   "source": [
    "## Hyperparameter tuning of logistic regression"
   ]
  },
  {
   "cell_type": "code",
   "execution_count": 53,
   "id": "a3256ae1",
   "metadata": {},
   "outputs": [
    {
     "name": "stdout",
     "output_type": "stream",
     "text": [
      "Tuned Hyperparameters : {'C': 1.0, 'penalty': 'l2', 'solver': 'liblinear'}\n",
      "Accuracy : 0.945816364309515\n"
     ]
    }
   ],
   "source": [
    "logistic = LogisticRegression()\n",
    "\n",
    "\n",
    "parameters = {\n",
    "    'penalty' : ['l1','l2'], \n",
    "    'C'       : np.logspace(-3,3,7),\n",
    "    'solver'  : ['newton-cg', 'lbfgs', 'liblinear'],\n",
    "    \n",
    "}\n",
    "\n",
    "clf_log = GridSearchCV(logistic,              # model\n",
    "                   param_grid = parameters,   # hyperparameters\n",
    "                   scoring='accuracy',        # metric for scoring\n",
    "                   cv=10)                     # number of folds\n",
    "\n",
    "\n",
    "\n",
    "clf_log.fit(X_train_ru,y_train_ru)\n",
    "\n",
    "print(\"Tuned Hyperparameters :\", clf_log.best_params_)\n",
    "print(\"Accuracy :\",clf_log.best_score_)"
   ]
  },
  {
   "cell_type": "code",
   "execution_count": null,
   "id": "da36fbef",
   "metadata": {},
   "outputs": [],
   "source": []
  },
  {
   "cell_type": "markdown",
   "id": "25c96836",
   "metadata": {},
   "source": [
    "## Hyperparameter tuning of AdaBoost"
   ]
  },
  {
   "cell_type": "code",
   "execution_count": 54,
   "id": "ae66794a",
   "metadata": {},
   "outputs": [
    {
     "name": "stdout",
     "output_type": "stream",
     "text": [
      "Tuned Hyperparameters : {'learning_rate': 0.1, 'n_estimators': 50}\n",
      "Accuracy : 0.9377020856472913\n"
     ]
    }
   ],
   "source": [
    "\n",
    "\n",
    "parameters = {\n",
    "    'n_estimators' : [10, 50, 100, 500], \n",
    "    'learning_rate' : [0.0001, 0.001, 0.01, 0.1, 1.0],\n",
    "        \n",
    "}\n",
    "\n",
    "\n",
    "clf_ada = GridSearchCV(ada,                    # model\n",
    "                   param_grid = parameters,   # hyperparameters\n",
    "                   scoring='accuracy',        # metric for scoring\n",
    "                   cv=cv)                     # number of folds\n",
    "\n",
    "clf_ada.fit(X_train_ru,y_train_ru)\n",
    "\n",
    "print(\"Tuned Hyperparameters :\", clf_ada.best_params_)\n",
    "print(\"Accuracy :\",clf_ada.best_score_)\n"
   ]
  },
  {
   "cell_type": "code",
   "execution_count": null,
   "id": "0ccea89d",
   "metadata": {},
   "outputs": [],
   "source": []
  },
  {
   "cell_type": "code",
   "execution_count": null,
   "id": "bc578af2",
   "metadata": {},
   "outputs": [],
   "source": []
  },
  {
   "cell_type": "code",
   "execution_count": null,
   "id": "50106fe3",
   "metadata": {},
   "outputs": [],
   "source": []
  },
  {
   "cell_type": "code",
   "execution_count": null,
   "id": "00d5b0cf",
   "metadata": {},
   "outputs": [],
   "source": []
  }
 ],
 "metadata": {
  "kernelspec": {
   "display_name": "Python 3 (ipykernel)",
   "language": "python",
   "name": "python3"
  },
  "language_info": {
   "codemirror_mode": {
    "name": "ipython",
    "version": 3
   },
   "file_extension": ".py",
   "mimetype": "text/x-python",
   "name": "python",
   "nbconvert_exporter": "python",
   "pygments_lexer": "ipython3",
   "version": "3.9.13"
  }
 },
 "nbformat": 4,
 "nbformat_minor": 5
}
